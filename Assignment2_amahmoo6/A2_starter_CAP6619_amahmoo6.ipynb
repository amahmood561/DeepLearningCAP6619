{
 "cells": [
  {
   "cell_type": "markdown",
   "metadata": {
    "id": "Whf_8TEO-6qX"
   },
   "source": [
    "# CAP 6619 - Deep Learning\n",
    "## Summer 2021 - Dr Marques\n",
    "## Assignment 2\n",
    "\n",
    "Deep learning solutions for: \n",
    "- Binary classification of movie reviews using the IMDB dataset\n",
    "- Multiclass classification of newswires using the Reuters dataset\n",
    "- Regression for house price estimation using the Boston Housing Price dataset"
   ]
  },
  {
   "cell_type": "markdown",
   "metadata": {
    "id": "32AXUOrLxvoD"
   },
   "source": [
    "Useful references and sources:\n",
    "\n",
    "- https://keras.io/api/datasets/imdb/\n",
    "- https://www.tensorflow.org/datasets/catalog/imdb_reviews\n",
    "- https://www.tensorflow.org/tutorials/keras/text_classification_with_hub\n",
    "- https://colab.research.google.com/github/fchollet/deep-learning-with-python-notebooks/blob/master/chapter04_getting-started-with-neural-networks.ipynb \n",
    "- https://developers.google.com/machine-learning/guides/text-classification/\n",
    "- https://machinelearningmastery.com/sequence-classification-lstm-recurrent-neural-networks-python-keras/"
   ]
  },
  {
   "cell_type": "markdown",
   "metadata": {
    "id": "o_i0NIxeykr0"
   },
   "source": [
    "#### (OPTIONAL) TODO 1\n",
    "\n",
    "Add your own sources and references here."
   ]
  },
  {
   "cell_type": "markdown",
   "metadata": {
    "id": "2u-hfaHC-6qb"
   },
   "source": [
    "## Setup"
   ]
  },
  {
   "cell_type": "code",
   "execution_count": 197,
   "metadata": {
    "id": "1H7CSr4a-6qb"
   },
   "outputs": [],
   "source": [
    "from tensorflow import keras\n",
    "from keras.datasets import mnist\n",
    "from keras.models import Sequential\n",
    "from keras.layers import Dense, Flatten, Conv2D, MaxPooling2D\n",
    "from tensorflow.keras.optimizers import SGD\n",
    "\n",
    "\n",
    "from tensorflow.keras import layers\n",
    "from matplotlib import pyplot as plt\n",
    "import numpy as np"
   ]
  },
  {
   "cell_type": "markdown",
   "metadata": {
    "id": "BEn1cfWJ-6rH"
   },
   "source": [
    "## PART 1 - Binary classification of movie reviews using the IMDB dataset\n",
    "\n",
    "We will start with a simple solution using a fully-connected neural network architecture. "
   ]
  },
  {
   "cell_type": "markdown",
   "metadata": {
    "id": "dxNd2jV5-6qg"
   },
   "source": [
    "### Load and prepare the data"
   ]
  },
  {
   "cell_type": "code",
   "execution_count": 206,
   "metadata": {
    "colab": {
     "base_uri": "https://localhost:8080/"
    },
    "id": "EgbHPf85SWy8",
    "outputId": "9fb4ba2c-0dd7-42fa-891c-4cf04d64349e"
   },
   "outputs": [],
   "source": [
    "from tensorflow.keras.datasets import imdb\n",
    "(train_data, train_labels), (test_data, test_labels) = imdb.load_data(\n",
    "    num_words=10000)"
   ]
  },
  {
   "cell_type": "code",
   "execution_count": 238,
   "metadata": {
    "colab": {
     "base_uri": "https://localhost:8080/"
    },
    "id": "Gm-ng4uVSWy9",
    "outputId": "bd5216d5-6e33-4247-8aeb-c50535310bd4"
   },
   "outputs": [],
   "source": [
    "#train_data[0]"
   ]
  },
  {
   "cell_type": "code",
   "execution_count": 208,
   "metadata": {
    "colab": {
     "base_uri": "https://localhost:8080/"
    },
    "id": "T_UQLHcbSWy9",
    "outputId": "052c9f83-795d-472c-d93a-de07dbfac67e"
   },
   "outputs": [
    {
     "data": {
      "text/plain": [
       "1"
      ]
     },
     "execution_count": 208,
     "metadata": {},
     "output_type": "execute_result"
    }
   ],
   "source": [
    "train_labels[0]"
   ]
  },
  {
   "cell_type": "code",
   "execution_count": 209,
   "metadata": {
    "colab": {
     "base_uri": "https://localhost:8080/"
    },
    "id": "OkzPHbDISWy-",
    "outputId": "311120b4-46a2-4f22-92c4-2d2abad2ec89"
   },
   "outputs": [
    {
     "data": {
      "text/plain": [
       "9999"
      ]
     },
     "execution_count": 209,
     "metadata": {},
     "output_type": "execute_result"
    }
   ],
   "source": [
    "max([max(sequence) for sequence in train_data])"
   ]
  },
  {
   "cell_type": "markdown",
   "metadata": {
    "id": "a14ENstYSWy-"
   },
   "source": [
    "### Decoding reviews back to text"
   ]
  },
  {
   "cell_type": "code",
   "execution_count": 210,
   "metadata": {
    "id": "a1t1h2AgSWy-"
   },
   "outputs": [],
   "source": [
    "word_index = imdb.get_word_index()\n",
    "reverse_word_index = dict(\n",
    "    [(value, key) for (key, value) in word_index.items()])\n",
    "decoded_review = \" \".join(\n",
    "    [reverse_word_index.get(i - 3, \"?\") for i in train_data[0]])"
   ]
  },
  {
   "cell_type": "code",
   "execution_count": 237,
   "metadata": {},
   "outputs": [],
   "source": [
    "#print(reverse_word_index)"
   ]
  },
  {
   "cell_type": "code",
   "execution_count": 212,
   "metadata": {},
   "outputs": [
    {
     "name": "stdout",
     "output_type": "stream",
     "text": [
      "? this film was just brilliant casting location scenery story direction everyone's really suited the part they played and you could just imagine being there robert ? is an amazing actor and now the same being director ? father came from the same scottish island as myself so i loved the fact there was a real connection with this film the witty remarks throughout the film were great it was just brilliant so much that i bought the film as soon as it was released for ? and would recommend it to everyone to watch and the fly fishing was amazing really cried at the end it was so sad and you know what they say if you cry at a film it must have been good and this definitely was also ? to the two little boy's that played the ? of norman and paul they were just brilliant children are often left out of the ? list i think because the stars that play them all grown up are such a big profile for the whole film but these children are amazing and should be praised for what they have done don't you think the whole story was so lovely because it was true and was someone's life after all that was shared with us all\n"
     ]
    }
   ],
   "source": [
    "print(decoded_review)"
   ]
  },
  {
   "cell_type": "markdown",
   "metadata": {
    "id": "w9hkDy4ESWy_"
   },
   "source": [
    "### Preparing the data"
   ]
  },
  {
   "cell_type": "markdown",
   "metadata": {
    "id": "Qjq7wFSISWy_"
   },
   "source": [
    "#### Encoding the integer sequences via multi-hot encoding"
   ]
  },
  {
   "cell_type": "code",
   "execution_count": 213,
   "metadata": {
    "id": "nZD-izxWSWy_"
   },
   "outputs": [],
   "source": [
    "import numpy as np\n",
    "def vectorize_sequences(sequences, dimension=10000):\n",
    "    results = np.zeros((len(sequences), dimension))\n",
    "    for i, sequence in enumerate(sequences):\n",
    "        for j in sequence:\n",
    "            results[i, j] = 1.\n",
    "    return results\n",
    "\n",
    "x_train = vectorize_sequences(train_data)\n",
    "x_test = vectorize_sequences(test_data)\n"
   ]
  },
  {
   "cell_type": "code",
   "execution_count": 236,
   "metadata": {},
   "outputs": [],
   "source": [
    "#print(train_data)"
   ]
  },
  {
   "cell_type": "code",
   "execution_count": 235,
   "metadata": {},
   "outputs": [],
   "source": [
    "#print(test_data)"
   ]
  },
  {
   "cell_type": "code",
   "execution_count": 216,
   "metadata": {
    "colab": {
     "base_uri": "https://localhost:8080/"
    },
    "id": "1HXEpTCfSWy_",
    "outputId": "fcd5ad84-fd04-4efa-ef15-da78fb37b321"
   },
   "outputs": [
    {
     "data": {
      "text/plain": [
       "array([0., 1., 1., ..., 0., 0., 0.])"
      ]
     },
     "execution_count": 216,
     "metadata": {},
     "output_type": "execute_result"
    }
   ],
   "source": [
    "x_train[0]"
   ]
  },
  {
   "cell_type": "code",
   "execution_count": 217,
   "metadata": {
    "id": "RBzY7qPASWy_"
   },
   "outputs": [
    {
     "name": "stdout",
     "output_type": "stream",
     "text": [
      "[1. 0. 0. ... 0. 1. 0.]\n",
      "[0. 1. 1. ... 0. 0. 0.]\n"
     ]
    }
   ],
   "source": [
    "y_train = np.asarray(train_labels).astype(\"float32\")\n",
    "print(y_train)\n",
    "y_test = np.asarray(test_labels).astype(\"float32\")\n",
    "print(y_test)"
   ]
  },
  {
   "cell_type": "code",
   "execution_count": null,
   "metadata": {},
   "outputs": [],
   "source": []
  },
  {
   "cell_type": "markdown",
   "metadata": {
    "id": "96PvZIXicgJu"
   },
   "source": [
    "### (OPTIONAL) TODO 2\n",
    "\n",
    "Write code to show two examples of reviews (in plain text), one labeled as _positive_, another labeled as _negative_."
   ]
  },
  {
   "cell_type": "code",
   "execution_count": 218,
   "metadata": {},
   "outputs": [
    {
     "name": "stdout",
     "output_type": "stream",
     "text": [
      "(50000, 2)\n"
     ]
    },
    {
     "data": {
      "text/html": [
       "<div>\n",
       "<style scoped>\n",
       "    .dataframe tbody tr th:only-of-type {\n",
       "        vertical-align: middle;\n",
       "    }\n",
       "\n",
       "    .dataframe tbody tr th {\n",
       "        vertical-align: top;\n",
       "    }\n",
       "\n",
       "    .dataframe thead th {\n",
       "        text-align: right;\n",
       "    }\n",
       "</style>\n",
       "<table border=\"1\" class=\"dataframe\">\n",
       "  <thead>\n",
       "    <tr style=\"text-align: right;\">\n",
       "      <th></th>\n",
       "      <th>review</th>\n",
       "      <th>sentiment</th>\n",
       "    </tr>\n",
       "  </thead>\n",
       "  <tbody>\n",
       "    <tr>\n",
       "      <th>0</th>\n",
       "      <td>One of the other reviewers has mentioned that ...</td>\n",
       "      <td>positive</td>\n",
       "    </tr>\n",
       "    <tr>\n",
       "      <th>1</th>\n",
       "      <td>A wonderful little production. &lt;br /&gt;&lt;br /&gt;The...</td>\n",
       "      <td>positive</td>\n",
       "    </tr>\n",
       "    <tr>\n",
       "      <th>2</th>\n",
       "      <td>I thought this was a wonderful way to spend ti...</td>\n",
       "      <td>positive</td>\n",
       "    </tr>\n",
       "    <tr>\n",
       "      <th>3</th>\n",
       "      <td>Basically there's a family where a little boy ...</td>\n",
       "      <td>negative</td>\n",
       "    </tr>\n",
       "    <tr>\n",
       "      <th>4</th>\n",
       "      <td>Petter Mattei's \"Love in the Time of Money\" is...</td>\n",
       "      <td>positive</td>\n",
       "    </tr>\n",
       "    <tr>\n",
       "      <th>5</th>\n",
       "      <td>Probably my all-time favorite movie, a story o...</td>\n",
       "      <td>positive</td>\n",
       "    </tr>\n",
       "    <tr>\n",
       "      <th>6</th>\n",
       "      <td>I sure would like to see a resurrection of a u...</td>\n",
       "      <td>positive</td>\n",
       "    </tr>\n",
       "    <tr>\n",
       "      <th>7</th>\n",
       "      <td>This show was an amazing, fresh &amp; innovative i...</td>\n",
       "      <td>negative</td>\n",
       "    </tr>\n",
       "    <tr>\n",
       "      <th>8</th>\n",
       "      <td>Encouraged by the positive comments about this...</td>\n",
       "      <td>negative</td>\n",
       "    </tr>\n",
       "    <tr>\n",
       "      <th>9</th>\n",
       "      <td>If you like original gut wrenching laughter yo...</td>\n",
       "      <td>positive</td>\n",
       "    </tr>\n",
       "  </tbody>\n",
       "</table>\n",
       "</div>"
      ],
      "text/plain": [
       "                                              review sentiment\n",
       "0  One of the other reviewers has mentioned that ...  positive\n",
       "1  A wonderful little production. <br /><br />The...  positive\n",
       "2  I thought this was a wonderful way to spend ti...  positive\n",
       "3  Basically there's a family where a little boy ...  negative\n",
       "4  Petter Mattei's \"Love in the Time of Money\" is...  positive\n",
       "5  Probably my all-time favorite movie, a story o...  positive\n",
       "6  I sure would like to see a resurrection of a u...  positive\n",
       "7  This show was an amazing, fresh & innovative i...  negative\n",
       "8  Encouraged by the positive comments about this...  negative\n",
       "9  If you like original gut wrenching laughter yo...  positive"
      ]
     },
     "execution_count": 218,
     "metadata": {},
     "output_type": "execute_result"
    }
   ],
   "source": [
    "#importing the training data\n",
    "import pandas as pd\n",
    "imdb_data=pd.read_csv('IMDB Dataset.csv')\n",
    "print(imdb_data.shape)\n",
    "imdb_data.head(10)"
   ]
  },
  {
   "cell_type": "code",
   "execution_count": 219,
   "metadata": {},
   "outputs": [
    {
     "data": {
      "text/html": [
       "<div>\n",
       "<style scoped>\n",
       "    .dataframe tbody tr th:only-of-type {\n",
       "        vertical-align: middle;\n",
       "    }\n",
       "\n",
       "    .dataframe tbody tr th {\n",
       "        vertical-align: top;\n",
       "    }\n",
       "\n",
       "    .dataframe thead th {\n",
       "        text-align: right;\n",
       "    }\n",
       "</style>\n",
       "<table border=\"1\" class=\"dataframe\">\n",
       "  <thead>\n",
       "    <tr style=\"text-align: right;\">\n",
       "      <th></th>\n",
       "      <th>review</th>\n",
       "      <th>sentiment</th>\n",
       "    </tr>\n",
       "  </thead>\n",
       "  <tbody>\n",
       "    <tr>\n",
       "      <th>count</th>\n",
       "      <td>50000</td>\n",
       "      <td>50000</td>\n",
       "    </tr>\n",
       "    <tr>\n",
       "      <th>unique</th>\n",
       "      <td>49582</td>\n",
       "      <td>2</td>\n",
       "    </tr>\n",
       "    <tr>\n",
       "      <th>top</th>\n",
       "      <td>Loved today's show!!! It was a variety and not...</td>\n",
       "      <td>negative</td>\n",
       "    </tr>\n",
       "    <tr>\n",
       "      <th>freq</th>\n",
       "      <td>5</td>\n",
       "      <td>25000</td>\n",
       "    </tr>\n",
       "  </tbody>\n",
       "</table>\n",
       "</div>"
      ],
      "text/plain": [
       "                                                   review sentiment\n",
       "count                                               50000     50000\n",
       "unique                                              49582         2\n",
       "top     Loved today's show!!! It was a variety and not...  negative\n",
       "freq                                                    5     25000"
      ]
     },
     "execution_count": 219,
     "metadata": {},
     "output_type": "execute_result"
    }
   ],
   "source": [
    "#Summary of the dataset\n",
    "imdb_data.describe()"
   ]
  },
  {
   "cell_type": "code",
   "execution_count": 220,
   "metadata": {},
   "outputs": [
    {
     "data": {
      "text/plain": [
       "negative    25000\n",
       "positive    25000\n",
       "Name: sentiment, dtype: int64"
      ]
     },
     "execution_count": 220,
     "metadata": {},
     "output_type": "execute_result"
    }
   ],
   "source": [
    "imdb_data['sentiment'].value_counts()"
   ]
  },
  {
   "cell_type": "markdown",
   "metadata": {
    "id": "GxHU8-BiSWy_"
   },
   "source": [
    "### Building your model"
   ]
  },
  {
   "cell_type": "markdown",
   "metadata": {
    "id": "jv_k78mmSWy_"
   },
   "source": [
    "#### Model definition"
   ]
  },
  {
   "cell_type": "code",
   "execution_count": 221,
   "metadata": {
    "id": "IQzf7F7USWzA"
   },
   "outputs": [],
   "source": [
    "from tensorflow import keras\n",
    "from tensorflow.keras import layers\n",
    "\n",
    "model = keras.Sequential([\n",
    "    layers.Dense(16, activation=\"relu\"),\n",
    "    layers.Dense(16, activation=\"relu\"),\n",
    "    layers.Dense(1, activation=\"sigmoid\")\n",
    "])"
   ]
  },
  {
   "cell_type": "markdown",
   "metadata": {
    "id": "DasM7UfASWzA"
   },
   "source": [
    "#### Compiling the model"
   ]
  },
  {
   "cell_type": "code",
   "execution_count": 222,
   "metadata": {
    "id": "BWSLlZC4SWzA"
   },
   "outputs": [],
   "source": [
    "model.compile(optimizer=\"rmsprop\",\n",
    "              loss=\"binary_crossentropy\",\n",
    "              metrics=[\"accuracy\"])"
   ]
  },
  {
   "cell_type": "markdown",
   "metadata": {
    "id": "oUth-9BtSWzA"
   },
   "source": [
    "### Validating your approach"
   ]
  },
  {
   "cell_type": "markdown",
   "metadata": {
    "id": "XsEbLv3eSWzA"
   },
   "source": [
    "#### Setting aside a validation set"
   ]
  },
  {
   "cell_type": "code",
   "execution_count": 223,
   "metadata": {
    "id": "CNxpNUwPSWzA"
   },
   "outputs": [],
   "source": [
    "x_val = x_train[:10000]\n",
    "partial_x_train = x_train[10000:]\n",
    "y_val = y_train[:10000]\n",
    "partial_y_train = y_train[10000:]"
   ]
  },
  {
   "cell_type": "markdown",
   "metadata": {
    "id": "A3ye0OxsSWzA"
   },
   "source": [
    "#### Training your model"
   ]
  },
  {
   "cell_type": "code",
   "execution_count": 224,
   "metadata": {
    "colab": {
     "base_uri": "https://localhost:8080/"
    },
    "id": "o3rFuAH8SWzA",
    "outputId": "57726af4-6160-4d1e-ce43-0dd177ff19d2"
   },
   "outputs": [
    {
     "name": "stdout",
     "output_type": "stream",
     "text": [
      "Epoch 1/20\n",
      "30/30 [==============================] - 1s 20ms/step - loss: 0.5081 - accuracy: 0.7819 - val_loss: 0.3902 - val_accuracy: 0.8536\n",
      "Epoch 2/20\n",
      "30/30 [==============================] - 0s 11ms/step - loss: 0.3016 - accuracy: 0.9016 - val_loss: 0.3015 - val_accuracy: 0.8877\n",
      "Epoch 3/20\n",
      "30/30 [==============================] - 0s 11ms/step - loss: 0.2183 - accuracy: 0.9301 - val_loss: 0.2791 - val_accuracy: 0.8879\n",
      "Epoch 4/20\n",
      "30/30 [==============================] - 0s 13ms/step - loss: 0.1761 - accuracy: 0.9427 - val_loss: 0.2775 - val_accuracy: 0.8864\n",
      "Epoch 5/20\n",
      "30/30 [==============================] - 0s 13ms/step - loss: 0.1424 - accuracy: 0.9553 - val_loss: 0.2903 - val_accuracy: 0.8853\n",
      "Epoch 6/20\n",
      "30/30 [==============================] - 0s 12ms/step - loss: 0.1149 - accuracy: 0.9647 - val_loss: 0.2987 - val_accuracy: 0.8855\n",
      "Epoch 7/20\n",
      "30/30 [==============================] - 0s 12ms/step - loss: 0.0957 - accuracy: 0.9723 - val_loss: 0.3118 - val_accuracy: 0.8823\n",
      "Epoch 8/20\n",
      "30/30 [==============================] - 0s 12ms/step - loss: 0.0807 - accuracy: 0.9767 - val_loss: 0.3505 - val_accuracy: 0.8756\n",
      "Epoch 9/20\n",
      "30/30 [==============================] - 0s 12ms/step - loss: 0.0626 - accuracy: 0.9843 - val_loss: 0.3575 - val_accuracy: 0.8761\n",
      "Epoch 10/20\n",
      "30/30 [==============================] - 0s 12ms/step - loss: 0.0524 - accuracy: 0.9871 - val_loss: 0.3798 - val_accuracy: 0.8798\n",
      "Epoch 11/20\n",
      "30/30 [==============================] - 0s 12ms/step - loss: 0.0431 - accuracy: 0.9894 - val_loss: 0.4098 - val_accuracy: 0.8727\n",
      "Epoch 12/20\n",
      "30/30 [==============================] - 0s 12ms/step - loss: 0.0328 - accuracy: 0.9935 - val_loss: 0.4345 - val_accuracy: 0.8749\n",
      "Epoch 13/20\n",
      "30/30 [==============================] - 0s 12ms/step - loss: 0.0266 - accuracy: 0.9955 - val_loss: 0.4741 - val_accuracy: 0.8742\n",
      "Epoch 14/20\n",
      "30/30 [==============================] - 0s 12ms/step - loss: 0.0222 - accuracy: 0.9965 - val_loss: 0.5021 - val_accuracy: 0.8676\n",
      "Epoch 15/20\n",
      "30/30 [==============================] - 0s 12ms/step - loss: 0.0209 - accuracy: 0.9959 - val_loss: 0.5248 - val_accuracy: 0.8698\n",
      "Epoch 16/20\n",
      "30/30 [==============================] - 0s 12ms/step - loss: 0.0103 - accuracy: 0.9995 - val_loss: 0.5560 - val_accuracy: 0.8678\n",
      "Epoch 17/20\n",
      "30/30 [==============================] - ETA: 0s - loss: 0.0101 - accuracy: 0.99 - 0s 12ms/step - loss: 0.0101 - accuracy: 0.9991 - val_loss: 0.5926 - val_accuracy: 0.8707\n",
      "Epoch 18/20\n",
      "30/30 [==============================] - 0s 12ms/step - loss: 0.0109 - accuracy: 0.9978 - val_loss: 0.6220 - val_accuracy: 0.8675\n",
      "Epoch 19/20\n",
      "30/30 [==============================] - 0s 12ms/step - loss: 0.0043 - accuracy: 0.9998 - val_loss: 0.6529 - val_accuracy: 0.8682\n",
      "Epoch 20/20\n",
      "30/30 [==============================] - 0s 11ms/step - loss: 0.0064 - accuracy: 0.9989 - val_loss: 0.6880 - val_accuracy: 0.8657\n"
     ]
    }
   ],
   "source": [
    "history = model.fit(partial_x_train,\n",
    "                    partial_y_train,\n",
    "                    epochs=20,\n",
    "                    batch_size=512,\n",
    "                    validation_data=(x_val, y_val))"
   ]
  },
  {
   "cell_type": "code",
   "execution_count": 225,
   "metadata": {
    "colab": {
     "base_uri": "https://localhost:8080/"
    },
    "id": "Z3PLDcnqSWzA",
    "outputId": "a50ca09a-fc95-4978-d4c5-e0e975a31662"
   },
   "outputs": [
    {
     "data": {
      "text/plain": [
       "dict_keys(['loss', 'accuracy', 'val_loss', 'val_accuracy'])"
      ]
     },
     "execution_count": 225,
     "metadata": {},
     "output_type": "execute_result"
    }
   ],
   "source": [
    "history_dict = history.history\n",
    "history_dict.keys()"
   ]
  },
  {
   "cell_type": "markdown",
   "metadata": {
    "id": "mOAiUESnSWzA"
   },
   "source": [
    "#### Plotting the training and validation loss"
   ]
  },
  {
   "cell_type": "code",
   "execution_count": 226,
   "metadata": {
    "colab": {
     "base_uri": "https://localhost:8080/",
     "height": 295
    },
    "id": "v8FYYH2ASWzA",
    "outputId": "82d61ee8-eed0-4180-c4d5-36588c2e530c"
   },
   "outputs": [
    {
     "data": {
      "image/png": "[encoded data removed]",
      "text/plain": [
       "<Figure size 432x288 with 1 Axes>"
      ]
     },
     "metadata": {
      "needs_background": "light"
     },
     "output_type": "display_data"
    }
   ],
   "source": [
    "import matplotlib.pyplot as plt\n",
    "history_dict = history.history\n",
    "loss_values = history_dict[\"loss\"]\n",
    "val_loss_values = history_dict[\"val_loss\"]\n",
    "epochs = range(1, len(loss_values) + 1)\n",
    "plt.plot(epochs, loss_values, \"bo\", label=\"Training loss\")\n",
    "plt.plot(epochs, val_loss_values, \"b\", label=\"Validation loss\")\n",
    "plt.title(\"Training and validation loss\")\n",
    "plt.xlabel(\"Epochs\")\n",
    "plt.ylabel(\"Loss\")\n",
    "plt.legend()\n",
    "plt.show()"
   ]
  },
  {
   "cell_type": "markdown",
   "metadata": {
    "id": "Y5dKUKfOSWzA"
   },
   "source": [
    "#### Plotting the training and validation accuracy"
   ]
  },
  {
   "cell_type": "code",
   "execution_count": 227,
   "metadata": {
    "colab": {
     "base_uri": "https://localhost:8080/",
     "height": 295
    },
    "id": "MyWdgytcSWzA",
    "outputId": "5f0d25ab-8b5d-41ac-debb-95aa055d3eee"
   },
   "outputs": [
    {
     "data": {
      "image/png": "[encoded data removed]",
      "text/plain": [
       "<Figure size 432x288 with 1 Axes>"
      ]
     },
     "metadata": {
      "needs_background": "light"
     },
     "output_type": "display_data"
    }
   ],
   "source": [
    "plt.clf()\n",
    "acc = history_dict[\"accuracy\"]\n",
    "val_acc = history_dict[\"val_accuracy\"]\n",
    "plt.plot(epochs, acc, \"bo\", label=\"Training acc\")\n",
    "plt.plot(epochs, val_acc, \"b\", label=\"Validation acc\")\n",
    "plt.title(\"Training and validation accuracy\")\n",
    "plt.xlabel(\"Epochs\")\n",
    "plt.ylabel(\"Accuracy\")\n",
    "plt.legend()\n",
    "plt.show()"
   ]
  },
  {
   "cell_type": "markdown",
   "metadata": {
    "id": "lJetC7rA36VT"
   },
   "source": [
    "### (OPTIONAL) TODO 3\n",
    "\n",
    "Write code to display 2 cases (one false positive, one false negative) where the classifier makes mistakes. Make sure to display both the true value as well as the predicted value.\n",
    "\n",
    "Comment on the mistakes and what you believe might have caused each of them. "
   ]
  },
  {
   "cell_type": "code",
   "execution_count": 228,
   "metadata": {},
   "outputs": [
    {
     "data": {
      "image/png": "[encoded data removed]",
      "text/plain": [
       "<Figure size 1440x720 with 2 Axes>"
      ]
     },
     "metadata": {
      "needs_background": "light"
     },
     "output_type": "display_data"
    },
    {
     "data": {
      "text/plain": [
       "(4341, 631, 4316, 712)"
      ]
     },
     "execution_count": 228,
     "metadata": {},
     "output_type": "execute_result"
    }
   ],
   "source": [
    "import tensorflow as tf\n",
    "import seaborn as sns\n",
    "\n",
    "from sklearn.metrics import classification_report, confusion_matrix\n",
    "\n",
    "import warnings\n",
    "warnings.filterwarnings(\"ignore\")\n",
    "def conMatrix():\n",
    "    plt.figure(figsize=(20,10))\n",
    "    sns.heatmap(confusion_matrix(y_val, model.predict_classes(x_val)) , \n",
    "                cmap=sns.color_palette(\"pastel\", as_cmap=True),\n",
    "               annot=True, fmt=\"d\")\n",
    "    plt.title(\"Conf Matrix\")\n",
    "    plt.show()\n",
    "conMatrix()\n",
    "\n",
    "def perf_measure(y_actual, y_hat):\n",
    "    TP = 0\n",
    "    FP = 0\n",
    "    TN = 0\n",
    "    FN = 0\n",
    "\n",
    "    for i in range(len(y_hat)): \n",
    "        if y_actual[i]==y_hat[i]==1:\n",
    "           TP += 1\n",
    "        if y_hat[i]==1 and y_actual[i]!=y_hat[i]:\n",
    "           FP += 1\n",
    "        if y_actual[i]==y_hat[i]==0:\n",
    "           TN += 1\n",
    "        if y_hat[i]==0 and y_actual[i]!=y_hat[i]:\n",
    "           FN += 1\n",
    "\n",
    "    return(TP, FP, TN, FN)\n",
    "perf_measure(y_val, model.predict_classes(x_val))"
   ]
  },
  {
   "cell_type": "code",
   "execution_count": 234,
   "metadata": {},
   "outputs": [
    {
     "data": {
      "image/png": "[encoded data removed]",
      "text/plain": [
       "<Figure size 1440x720 with 2 Axes>"
      ]
     },
     "metadata": {
      "needs_background": "light"
     },
     "output_type": "display_data"
    },
    {
     "name": "stdout",
     "output_type": "stream",
     "text": [
      "4341 631 4316 712\n"
     ]
    },
    {
     "data": {
      "text/plain": [
       "<__main__.Todo3_A at 0x1d6c1c47c70>"
      ]
     },
     "execution_count": 234,
     "metadata": {},
     "output_type": "execute_result"
    }
   ],
   "source": [
    "class Todo3_A:\n",
    "    def __init__(self, x, y, model):\n",
    "        self.y_val = x\n",
    "        self.x_val = y\n",
    "        self.model = model\n",
    "        self.build()\n",
    "\n",
    "    def build(self):\n",
    "        self.build_matrix()\n",
    "        values = self.metricsCals(self.y_val, self.model.predict_classes(self.x_val))\n",
    "\n",
    "    def build_matrix(self):\n",
    "        plt.figure(figsize=(20, 10))\n",
    "        sns.heatmap(confusion_matrix(self.y_val, self.model.predict_classes(self.x_val)),\n",
    "                    cmap=sns.color_palette(\"pastel\", as_cmap=True),\n",
    "                    annot=True, fmt=\"d\")\n",
    "        plt.title(\"Conf Matrix\")\n",
    "        plt.show()\n",
    "\n",
    "    def metricsCals(self, y_actual, y_pred):\n",
    "        TruePos = 0\n",
    "        FalsePos = 0\n",
    "        TrueNegative = 0\n",
    "        FalseNeg = 0\n",
    "\n",
    "        for i in range(len(y_pred)):\n",
    "            if y_actual[i] == y_pred[i] == 1:\n",
    "                TruePos += 1\n",
    "            if y_pred[i] == 1 and y_actual[i] != y_pred[i]:\n",
    "                FalsePos += 1\n",
    "            if y_actual[i] == y_pred[i] == 0:\n",
    "                TrueNegative += 1\n",
    "            if y_pred[i] == 0 and y_actual[i] != y_pred[i]:\n",
    "                FalseNeg += 1\n",
    "        print(TruePos, FalsePos, TrueNegative, FalseNeg)\n",
    "        return (TruePos, FalsePos, TrueNegative, FalseNeg)\n",
    "\n",
    "\n",
    "Todo3_A(y_val, x_val,model)"
   ]
  },
  {
   "cell_type": "markdown",
   "metadata": {
    "id": "dmlYOsbMxY-d"
   },
   "source": [
    "### (OPTIONAL) TODO 4\n",
    "\n",
    "Write code to try different combinations of:\n",
    "- numbers of hidden layers and units per layer \n",
    "- loss functions\n",
    "- activation functions\n",
    "\n",
    "Please refrain from using better architectures (RNN, LSTM, etc.) and \"advanced\" techniques to curb overfitting (e.g., dropout, batch normalization, weight regularization, etc.)"
   ]
  },
  {
   "cell_type": "code",
   "execution_count": 169,
   "metadata": {},
   "outputs": [
    {
     "name": "stdout",
     "output_type": "stream",
     "text": [
      "build model\n",
      "compile model\n",
      "train data\n",
      "train model\n",
      "Epoch 1/20\n",
      "47/47 [==============================] - 1s 11ms/step - loss: 0.4422 - accuracy: 0.8262 - val_loss: 0.3077 - val_accuracy: 0.8890\n",
      "Epoch 2/20\n",
      "47/47 [==============================] - 0s 8ms/step - loss: 0.2541 - accuracy: 0.9112 - val_loss: 0.2951 - val_accuracy: 0.8750\n",
      "Epoch 3/20\n",
      "47/47 [==============================] - 0s 8ms/step - loss: 0.1977 - accuracy: 0.9310 - val_loss: 0.2738 - val_accuracy: 0.8870\n",
      "Epoch 4/20\n",
      "47/47 [==============================] - 0s 9ms/step - loss: 0.1636 - accuracy: 0.9435 - val_loss: 0.2831 - val_accuracy: 0.8900\n",
      "Epoch 5/20\n",
      "47/47 [==============================] - 0s 9ms/step - loss: 0.1412 - accuracy: 0.9524 - val_loss: 0.2712 - val_accuracy: 0.8900\n",
      "Epoch 6/20\n",
      "47/47 [==============================] - 0s 9ms/step - loss: 0.1223 - accuracy: 0.9583 - val_loss: 0.3205 - val_accuracy: 0.8740\n",
      "Epoch 7/20\n",
      "47/47 [==============================] - 0s 9ms/step - loss: 0.1103 - accuracy: 0.9621 - val_loss: 0.3057 - val_accuracy: 0.8890\n",
      "Epoch 8/20\n",
      "47/47 [==============================] - 0s 8ms/step - loss: 0.0954 - accuracy: 0.9682 - val_loss: 0.3252 - val_accuracy: 0.8860\n",
      "Epoch 9/20\n",
      "47/47 [==============================] - 0s 9ms/step - loss: 0.0837 - accuracy: 0.9733 - val_loss: 0.3422 - val_accuracy: 0.8760\n",
      "Epoch 10/20\n",
      "47/47 [==============================] - 0s 8ms/step - loss: 0.0768 - accuracy: 0.9742 - val_loss: 0.3827 - val_accuracy: 0.8710\n",
      "Epoch 11/20\n",
      "47/47 [==============================] - 0s 8ms/step - loss: 0.0661 - accuracy: 0.9800 - val_loss: 0.3912 - val_accuracy: 0.8770\n",
      "Epoch 12/20\n",
      "47/47 [==============================] - 0s 9ms/step - loss: 0.0566 - accuracy: 0.9837 - val_loss: 0.4385 - val_accuracy: 0.8770\n",
      "Epoch 13/20\n",
      "47/47 [==============================] - 0s 9ms/step - loss: 0.0494 - accuracy: 0.9850 - val_loss: 0.4849 - val_accuracy: 0.8720\n",
      "Epoch 14/20\n",
      "47/47 [==============================] - 0s 8ms/step - loss: 0.0432 - accuracy: 0.9869 - val_loss: 0.4823 - val_accuracy: 0.8740\n",
      "Epoch 15/20\n",
      "47/47 [==============================] - 0s 8ms/step - loss: 0.0380 - accuracy: 0.9894 - val_loss: 0.5113 - val_accuracy: 0.8760\n",
      "Epoch 16/20\n",
      "47/47 [==============================] - 0s 8ms/step - loss: 0.0297 - accuracy: 0.9920 - val_loss: 0.5290 - val_accuracy: 0.8690\n",
      "Epoch 17/20\n",
      "47/47 [==============================] - 0s 8ms/step - loss: 0.0269 - accuracy: 0.9928 - val_loss: 0.6312 - val_accuracy: 0.8640\n",
      "Epoch 18/20\n",
      "47/47 [==============================] - 0s 8ms/step - loss: 0.0230 - accuracy: 0.9939 - val_loss: 0.5934 - val_accuracy: 0.8660\n",
      "Epoch 19/20\n",
      "47/47 [==============================] - 1s 17ms/step - loss: 0.0189 - accuracy: 0.9950 - val_loss: 0.6252 - val_accuracy: 0.8720\n",
      "Epoch 20/20\n",
      "47/47 [==============================] - 0s 8ms/step - loss: 0.0145 - accuracy: 0.9971 - val_loss: 0.6666 - val_accuracy: 0.8650\n",
      "dict_keys(['loss', 'accuracy', 'val_loss', 'val_accuracy'])\n",
      "Plotting the training and validation loss\n"
     ]
    },
    {
     "data": {
      "image/png": "[encoded data removed]",
      "text/plain": [
       "<Figure size 432x288 with 1 Axes>"
      ]
     },
     "metadata": {
      "needs_background": "light"
     },
     "output_type": "display_data"
    },
    {
     "name": "stdout",
     "output_type": "stream",
     "text": [
      "Plotting the training and validation loss\n"
     ]
    },
    {
     "data": {
      "image/png": "[encoded data removed]",
      "text/plain": [
       "<Figure size 432x288 with 1 Axes>"
      ]
     },
     "metadata": {
      "needs_background": "light"
     },
     "output_type": "display_data"
    },
    {
     "data": {
      "text/plain": [
       "<__main__.Todo4_A at 0x1d74f627a90>"
      ]
     },
     "execution_count": 169,
     "metadata": {},
     "output_type": "execute_result"
    }
   ],
   "source": [
    "class Todo4_A:\n",
    "\n",
    "    # init method or constructor\n",
    "    def __init__(self, x, y):\n",
    "        self.x_train = x\n",
    "        self.y_train = y\n",
    "        self.build()\n",
    "\n",
    "    def build(self):\n",
    "        self.build_model()\n",
    "        self.compile_model()\n",
    "        self.train_data()\n",
    "        self.train_Model()\n",
    "        self.plot_A()\n",
    "        self.plot_B()\n",
    "\n",
    "    def build_model(self):\n",
    "        print(\"build model\")\n",
    "        self.model = keras.Sequential([\n",
    "            layers.Dense(16, activation=\"relu\"),\n",
    "            layers.Dense(16, activation=\"relu\"),\n",
    "            layers.Dense(1, activation=\"sigmoid\")\n",
    "        ])\n",
    "\n",
    "    def compile_model(self):\n",
    "        print(\"compile model\")\n",
    "        self.model.compile(optimizer=\"rmsprop\",\n",
    "                      loss=\"binary_crossentropy\",\n",
    "                      metrics=[\"accuracy\"])\n",
    "\n",
    "    def train_data(self):\n",
    "        print(\"train data\")\n",
    "        self.x_val_optional = self.x_train[:1000]\n",
    "        self.partial_x_train_optional = self.x_train[1000:]\n",
    "        self.y_val_optional = self.y_train[:1000]\n",
    "        self.partial_y_train_optional = self.y_train[1000:]\n",
    "\n",
    "    def train_Model(self):\n",
    "        print(\"train model\")\n",
    "        self.history_optional = self.model.fit(self.partial_x_train_optional,\n",
    "                                               self.partial_y_train_optional,\n",
    "                                               epochs=20,\n",
    "                                               batch_size=512,\n",
    "                                               validation_data=(self.x_val_optional, self.y_val_optional))\n",
    "        self.history_dict = self.history_optional.history\n",
    "        print(self.history_dict.keys())\n",
    "    def plot_A(self):\n",
    "        print(\"Plotting the training and validation loss\")\n",
    "        self.history_dict = self.history_optional.history\n",
    "        self.loss_values = self.history_dict[\"loss\"]\n",
    "        self.val_loss_values = self.history_dict[\"val_loss\"]\n",
    "        self.epochs = range(1, len(self.loss_values) + 1)\n",
    "        plt.plot(self.epochs, self.loss_values, \"bo\", label=\"Training loss\")\n",
    "        plt.plot(self.epochs, self.val_loss_values, \"b\", label=\"Validation loss\")\n",
    "        plt.title(\"Training and validation loss\")\n",
    "        plt.xlabel(\"Epochs\")\n",
    "        plt.ylabel(\"Loss\")\n",
    "        plt.legend()\n",
    "        plt.show()\n",
    "    def plot_B(self):\n",
    "        print(\"Plotting the training and validation loss\")\n",
    "        plt.clf()\n",
    "        self.acc = self.history_dict[\"accuracy\"]\n",
    "        self.val_acc = self.history_dict[\"val_accuracy\"]\n",
    "        plt.plot(self.epochs, self.acc, \"bo\", label=\"Training acc\")\n",
    "        plt.plot(self.epochs, self.val_acc, \"b\", label=\"Validation acc\")\n",
    "        plt.title(\"Training and validation accuracy\")\n",
    "        plt.xlabel(\"Epochs\")\n",
    "        plt.ylabel(\"Accuracy\")\n",
    "        plt.legend()\n",
    "        plt.show()\n",
    "\n",
    "\n",
    "Todo4_A(x_train, y_train)"
   ]
  },
  {
   "cell_type": "code",
   "execution_count": 170,
   "metadata": {},
   "outputs": [
    {
     "name": "stdout",
     "output_type": "stream",
     "text": [
      "build model\n",
      "compile model\n",
      "train data\n",
      "train model\n",
      "Epoch 1/20\n",
      "47/47 [==============================] - 1s 12ms/step - loss: 0.5192 - accuracy: 0.7805 - val_loss: 0.3459 - val_accuracy: 0.8790\n",
      "Epoch 2/20\n",
      "47/47 [==============================] - 0s 8ms/step - loss: 0.2766 - accuracy: 0.9048 - val_loss: 0.2833 - val_accuracy: 0.8870\n",
      "Epoch 3/20\n",
      "47/47 [==============================] - 0s 8ms/step - loss: 0.2015 - accuracy: 0.9293 - val_loss: 0.2630 - val_accuracy: 0.8870\n",
      "Epoch 4/20\n",
      "47/47 [==============================] - 0s 8ms/step - loss: 0.1674 - accuracy: 0.9397 - val_loss: 0.2761 - val_accuracy: 0.8850\n",
      "Epoch 5/20\n",
      "47/47 [==============================] - 0s 8ms/step - loss: 0.1417 - accuracy: 0.9505 - val_loss: 0.3007 - val_accuracy: 0.8810\n",
      "Epoch 6/20\n",
      "47/47 [==============================] - 0s 8ms/step - loss: 0.1194 - accuracy: 0.9602 - val_loss: 0.3213 - val_accuracy: 0.8830\n",
      "Epoch 7/20\n",
      "47/47 [==============================] - 0s 8ms/step - loss: 0.1074 - accuracy: 0.9633 - val_loss: 0.3571 - val_accuracy: 0.8850\n",
      "Epoch 8/20\n",
      "47/47 [==============================] - 0s 8ms/step - loss: 0.0918 - accuracy: 0.9693 - val_loss: 0.3766 - val_accuracy: 0.8850\n",
      "Epoch 9/20\n",
      "47/47 [==============================] - 0s 8ms/step - loss: 0.0854 - accuracy: 0.9730 - val_loss: 0.4496 - val_accuracy: 0.8660\n",
      "Epoch 10/20\n",
      "47/47 [==============================] - 0s 8ms/step - loss: 0.0626 - accuracy: 0.9814 - val_loss: 0.4520 - val_accuracy: 0.8820\n",
      "Epoch 11/20\n",
      "47/47 [==============================] - 0s 9ms/step - loss: 0.0627 - accuracy: 0.9804 - val_loss: 0.4672 - val_accuracy: 0.8850\n",
      "Epoch 12/20\n",
      "47/47 [==============================] - 0s 8ms/step - loss: 0.0467 - accuracy: 0.9878 - val_loss: 0.5452 - val_accuracy: 0.8730\n",
      "Epoch 13/20\n",
      "47/47 [==============================] - 0s 8ms/step - loss: 0.0422 - accuracy: 0.9890 - val_loss: 0.5641 - val_accuracy: 0.8810\n",
      "Epoch 14/20\n",
      "47/47 [==============================] - 0s 8ms/step - loss: 0.0375 - accuracy: 0.9904 - val_loss: 0.6211 - val_accuracy: 0.8760\n",
      "Epoch 15/20\n",
      "47/47 [==============================] - 0s 8ms/step - loss: 0.0317 - accuracy: 0.9921 - val_loss: 0.6565 - val_accuracy: 0.8750\n",
      "Epoch 16/20\n",
      "47/47 [==============================] - 0s 8ms/step - loss: 0.0249 - accuracy: 0.9943 - val_loss: 0.6589 - val_accuracy: 0.8600\n",
      "Epoch 17/20\n",
      "47/47 [==============================] - 0s 8ms/step - loss: 0.0284 - accuracy: 0.9930 - val_loss: 0.6746 - val_accuracy: 0.8690\n",
      "Epoch 18/20\n",
      "47/47 [==============================] - 0s 8ms/step - loss: 0.0284 - accuracy: 0.9930 - val_loss: 0.7106 - val_accuracy: 0.8730\n",
      "Epoch 19/20\n",
      "47/47 [==============================] - 0s 8ms/step - loss: 0.0261 - accuracy: 0.9940 - val_loss: 0.7215 - val_accuracy: 0.8830\n",
      "Epoch 20/20\n",
      "47/47 [==============================] - 0s 8ms/step - loss: 0.0060 - accuracy: 0.9990 - val_loss: 0.7692 - val_accuracy: 0.8810\n",
      "dict_keys(['loss', 'accuracy', 'val_loss', 'val_accuracy'])\n",
      "Plotting the training and validation loss\n"
     ]
    },
    {
     "data": {
      "image/png": "[encoded data removed]",
      "text/plain": [
       "<Figure size 432x288 with 1 Axes>"
      ]
     },
     "metadata": {
      "needs_background": "light"
     },
     "output_type": "display_data"
    },
    {
     "name": "stdout",
     "output_type": "stream",
     "text": [
      "Plotting the training and validation loss\n"
     ]
    },
    {
     "data": {
      "image/png": "[encoded data removed]",
      "text/plain": [
       "<Figure size 432x288 with 1 Axes>"
      ]
     },
     "metadata": {
      "needs_background": "light"
     },
     "output_type": "display_data"
    },
    {
     "data": {
      "text/plain": [
       "<__main__.Todo4_B at 0x1d6ba5cae50>"
      ]
     },
     "execution_count": 170,
     "metadata": {},
     "output_type": "execute_result"
    }
   ],
   "source": [
    "class Todo4_B:\n",
    "\n",
    "    # init method or constructor\n",
    "    def __init__(self, x, y):\n",
    "        self.x_train = x\n",
    "        self.y_train = y\n",
    "        self.build()\n",
    "\n",
    "    def build(self):\n",
    "        self.build_model()\n",
    "        self.compile_model()\n",
    "        self.train_data()\n",
    "        self.train_Model()\n",
    "        self.plot_A()\n",
    "        self.plot_B()\n",
    "\n",
    "    def build_model(self):\n",
    "        print(\"build model\")\n",
    "        self.model = keras.Sequential([\n",
    "            layers.Dense(16, activation=\"relu\"),\n",
    "            layers.Dense(16, activation=\"relu\"),\n",
    "            layers.Dense(16, activation=\"relu\"),\n",
    "            layers.Dense(16, activation=\"relu\"),\n",
    "            layers.Dense(1, activation=\"sigmoid\")\n",
    "        ])\n",
    "\n",
    "    def compile_model(self):\n",
    "        print(\"compile model\")\n",
    "        self.model.compile(optimizer=\"rmsprop\",\n",
    "                      loss=\"binary_crossentropy\",\n",
    "                      metrics=[\"accuracy\"])\n",
    "\n",
    "    def train_data(self):\n",
    "        print(\"train data\")\n",
    "        self.x_val_optional = self.x_train[:1000]\n",
    "        self.partial_x_train_optional = self.x_train[1000:]\n",
    "        self.y_val_optional = self.y_train[:1000]\n",
    "        self.partial_y_train_optional = self.y_train[1000:]\n",
    "\n",
    "    def train_Model(self):\n",
    "        print(\"train model\")\n",
    "        self.history_optional = self.model.fit(self.partial_x_train_optional,\n",
    "                                               self.partial_y_train_optional,\n",
    "                                               epochs=20,\n",
    "                                               batch_size=512,\n",
    "                                               validation_data=(self.x_val_optional, self.y_val_optional))\n",
    "        self.history_dict = self.history_optional.history\n",
    "        print(self.history_dict.keys())\n",
    "    def plot_A(self):\n",
    "        print(\"Plotting the training and validation loss\")\n",
    "        self.history_dict = self.history_optional.history\n",
    "        self.loss_values = self.history_dict[\"loss\"]\n",
    "        self.val_loss_values = self.history_dict[\"val_loss\"]\n",
    "        self.epochs = range(1, len(self.loss_values) + 1)\n",
    "        plt.plot(self.epochs, self.loss_values, \"bo\", label=\"Training loss\")\n",
    "        plt.plot(self.epochs, self.val_loss_values, \"b\", label=\"Validation loss\")\n",
    "        plt.title(\"Training and validation loss\")\n",
    "        plt.xlabel(\"Epochs\")\n",
    "        plt.ylabel(\"Loss\")\n",
    "        plt.legend()\n",
    "        plt.show()\n",
    "    def plot_B(self):\n",
    "        print(\"Plotting the training and validation loss\")\n",
    "        plt.clf()\n",
    "        self.acc = self.history_dict[\"accuracy\"]\n",
    "        self.val_acc = self.history_dict[\"val_accuracy\"]\n",
    "        plt.plot(self.epochs, self.acc, \"bo\", label=\"Training acc\")\n",
    "        plt.plot(self.epochs, self.val_acc, \"b\", label=\"Validation acc\")\n",
    "        plt.title(\"Training and validation accuracy\")\n",
    "        plt.xlabel(\"Epochs\")\n",
    "        plt.ylabel(\"Accuracy\")\n",
    "        plt.legend()\n",
    "        plt.show()\n",
    "\n",
    "\n",
    "Todo4_B(x_train, y_train)"
   ]
  },
  {
   "cell_type": "code",
   "execution_count": 171,
   "metadata": {},
   "outputs": [
    {
     "name": "stdout",
     "output_type": "stream",
     "text": [
      "build model\n",
      "compile model\n",
      "train data\n",
      "train model\n",
      "Epoch 1/20\n",
      "47/47 [==============================] - 1s 11ms/step - loss: 0.6168 - accuracy: 0.7514 - val_loss: 0.3668 - val_accuracy: 0.8620\n",
      "Epoch 2/20\n",
      "47/47 [==============================] - 0s 9ms/step - loss: 0.3212 - accuracy: 0.8940 - val_loss: 0.3683 - val_accuracy: 0.8850\n",
      "Epoch 3/20\n",
      "47/47 [==============================] - 0s 9ms/step - loss: 0.2671 - accuracy: 0.9104 - val_loss: 0.4528 - val_accuracy: 0.8760\n",
      "Epoch 4/20\n",
      "47/47 [==============================] - 0s 9ms/step - loss: 0.2272 - accuracy: 0.9306 - val_loss: 0.4770 - val_accuracy: 0.8810\n",
      "Epoch 5/20\n",
      "47/47 [==============================] - 0s 9ms/step - loss: 0.1963 - accuracy: 0.9465 - val_loss: 0.5359 - val_accuracy: 0.8860\n",
      "Epoch 6/20\n",
      "47/47 [==============================] - 0s 9ms/step - loss: 0.1812 - accuracy: 0.9536 - val_loss: 0.4594 - val_accuracy: 0.8910\n",
      "Epoch 7/20\n",
      "47/47 [==============================] - 0s 9ms/step - loss: 0.1678 - accuracy: 0.9620 - val_loss: 0.7580 - val_accuracy: 0.8740\n",
      "Epoch 8/20\n",
      "47/47 [==============================] - 0s 8ms/step - loss: 0.1577 - accuracy: 0.9679 - val_loss: 0.6607 - val_accuracy: 0.8690\n",
      "Epoch 9/20\n",
      "47/47 [==============================] - 0s 8ms/step - loss: 0.1484 - accuracy: 0.9734 - val_loss: 1.1211 - val_accuracy: 0.8660\n",
      "Epoch 10/20\n",
      "47/47 [==============================] - 0s 8ms/step - loss: 0.1411 - accuracy: 0.9757 - val_loss: 0.7514 - val_accuracy: 0.8800\n",
      "Epoch 11/20\n",
      "47/47 [==============================] - 0s 8ms/step - loss: 0.1329 - accuracy: 0.9791 - val_loss: 0.7317 - val_accuracy: 0.8690\n",
      "Epoch 12/20\n",
      "47/47 [==============================] - 0s 8ms/step - loss: 0.1239 - accuracy: 0.9815 - val_loss: 0.9024 - val_accuracy: 0.8700\n",
      "Epoch 13/20\n",
      "47/47 [==============================] - 0s 8ms/step - loss: 0.1132 - accuracy: 0.9853 - val_loss: 0.9320 - val_accuracy: 0.8750\n",
      "Epoch 14/20\n",
      "47/47 [==============================] - 0s 8ms/step - loss: 0.1143 - accuracy: 0.9849 - val_loss: 0.9658 - val_accuracy: 0.8710\n",
      "Epoch 15/20\n",
      "47/47 [==============================] - 0s 8ms/step - loss: 0.1077 - accuracy: 0.9879 - val_loss: 0.7763 - val_accuracy: 0.8670\n",
      "Epoch 16/20\n",
      "47/47 [==============================] - 0s 8ms/step - loss: 0.1056 - accuracy: 0.9883 - val_loss: 1.2437 - val_accuracy: 0.8620\n",
      "Epoch 17/20\n",
      "47/47 [==============================] - 0s 8ms/step - loss: 0.1064 - accuracy: 0.9883 - val_loss: 1.1302 - val_accuracy: 0.8660\n",
      "Epoch 18/20\n",
      "47/47 [==============================] - 0s 9ms/step - loss: 0.1067 - accuracy: 0.9894 - val_loss: 0.8354 - val_accuracy: 0.8580\n",
      "Epoch 19/20\n",
      "47/47 [==============================] - 0s 8ms/step - loss: 0.1011 - accuracy: 0.9902 - val_loss: 1.0974 - val_accuracy: 0.8690\n",
      "Epoch 20/20\n",
      "47/47 [==============================] - 0s 7ms/step - loss: 0.0953 - accuracy: 0.9910 - val_loss: 0.9570 - val_accuracy: 0.8670\n",
      "dict_keys(['loss', 'accuracy', 'val_loss', 'val_accuracy'])\n",
      "Plotting the training and validation loss\n"
     ]
    },
    {
     "data": {
      "image/png": "[encoded data removed]",
      "text/plain": [
       "<Figure size 432x288 with 1 Axes>"
      ]
     },
     "metadata": {
      "needs_background": "light"
     },
     "output_type": "display_data"
    },
    {
     "name": "stdout",
     "output_type": "stream",
     "text": [
      "Plotting the training and validation loss\n"
     ]
    },
    {
     "data": {
      "image/png": "[encoded data removed]",
      "text/plain": [
       "<Figure size 432x288 with 1 Axes>"
      ]
     },
     "metadata": {
      "needs_background": "light"
     },
     "output_type": "display_data"
    },
    {
     "data": {
      "text/plain": [
       "<__main__.Todo4_B at 0x1d6bd4e4ca0>"
      ]
     },
     "execution_count": 171,
     "metadata": {},
     "output_type": "execute_result"
    }
   ],
   "source": [
    "class Todo4_B:\n",
    "\n",
    "    # init method or constructor\n",
    "    def __init__(self, x, y):\n",
    "        self.x_train = x\n",
    "        self.y_train = y\n",
    "        self.build()\n",
    "\n",
    "    def build(self):\n",
    "        self.build_model()\n",
    "        self.compile_model()\n",
    "        self.train_data()\n",
    "        self.train_Model()\n",
    "        self.plot_A()\n",
    "        self.plot_B()\n",
    "\n",
    "    def build_model(self):\n",
    "        print(\"build model\")\n",
    "        self.model = keras.Sequential([\n",
    "            layers.Dense(16, activation=\"tanh\"),\n",
    "            layers.Dense(16, activation=\"tanh\"),\n",
    "            layers.Dense(16, activation=\"tanh\"),\n",
    "            layers.Dense(16, activation=\"tanh\"),\n",
    "            layers.Dense(1, activation=\"tanh\")\n",
    "        ])\n",
    "\n",
    "    def compile_model(self):\n",
    "        print(\"compile model\")\n",
    "        self.model.compile(optimizer=\"rmsprop\",\n",
    "                      loss=\"binary_crossentropy\",\n",
    "                      metrics=[\"accuracy\"])\n",
    "\n",
    "    def train_data(self):\n",
    "        print(\"train data\")\n",
    "        self.x_val_optional = self.x_train[:1000]\n",
    "        self.partial_x_train_optional = self.x_train[1000:]\n",
    "        self.y_val_optional = self.y_train[:1000]\n",
    "        self.partial_y_train_optional = self.y_train[1000:]\n",
    "\n",
    "    def train_Model(self):\n",
    "        print(\"train model\")\n",
    "        self.history_optional = self.model.fit(self.partial_x_train_optional,\n",
    "                                               self.partial_y_train_optional,\n",
    "                                               epochs=20,\n",
    "                                               batch_size=512,\n",
    "                                               validation_data=(self.x_val_optional, self.y_val_optional))\n",
    "        self.history_dict = self.history_optional.history\n",
    "        print(self.history_dict.keys())\n",
    "    def plot_A(self):\n",
    "        print(\"Plotting the training and validation loss\")\n",
    "        self.history_dict = self.history_optional.history\n",
    "        self.loss_values = self.history_dict[\"loss\"]\n",
    "        self.val_loss_values = self.history_dict[\"val_loss\"]\n",
    "        self.epochs = range(1, len(self.loss_values) + 1)\n",
    "        plt.plot(self.epochs, self.loss_values, \"bo\", label=\"Training loss\")\n",
    "        plt.plot(self.epochs, self.val_loss_values, \"b\", label=\"Validation loss\")\n",
    "        plt.title(\"Training and validation loss\")\n",
    "        plt.xlabel(\"Epochs\")\n",
    "        plt.ylabel(\"Loss\")\n",
    "        plt.legend()\n",
    "        plt.show()\n",
    "    def plot_B(self):\n",
    "        print(\"Plotting the training and validation loss\")\n",
    "        plt.clf()\n",
    "        self.acc = self.history_dict[\"accuracy\"]\n",
    "        self.val_acc = self.history_dict[\"val_accuracy\"]\n",
    "        plt.plot(self.epochs, self.acc, \"bo\", label=\"Training acc\")\n",
    "        plt.plot(self.epochs, self.val_acc, \"b\", label=\"Validation acc\")\n",
    "        plt.title(\"Training and validation accuracy\")\n",
    "        plt.xlabel(\"Epochs\")\n",
    "        plt.ylabel(\"Accuracy\")\n",
    "        plt.legend()\n",
    "        plt.show()\n",
    "\n",
    "\n",
    "Todo4_B(x_train, y_train)"
   ]
  },
  {
   "cell_type": "markdown",
   "metadata": {
    "id": "DC8hWwWXSWzB"
   },
   "source": [
    "### Retraining a model from scratch"
   ]
  },
  {
   "cell_type": "code",
   "execution_count": 19,
   "metadata": {
    "colab": {
     "base_uri": "https://localhost:8080/"
    },
    "id": "weIyYseLSWzB",
    "outputId": "330708c1-b9c3-4add-92e4-9446f6d60ecf"
   },
   "outputs": [
    {
     "name": "stdout",
     "output_type": "stream",
     "text": [
      "Epoch 1/4\n",
      "49/49 [==============================] - 1s 7ms/step - loss: 0.4960 - accuracy: 0.7962\n",
      "Epoch 2/4\n",
      "49/49 [==============================] - 0s 7ms/step - loss: 0.2817 - accuracy: 0.9088\n",
      "Epoch 3/4\n",
      "49/49 [==============================] - 0s 7ms/step - loss: 0.2083 - accuracy: 0.9276\n",
      "Epoch 4/4\n",
      "49/49 [==============================] - 0s 6ms/step - loss: 0.1738 - accuracy: 0.9383\n",
      "782/782 [==============================] - 1s 779us/step - loss: 0.2891 - accuracy: 0.8847\n"
     ]
    }
   ],
   "source": [
    "model = keras.Sequential([\n",
    "    layers.Dense(16, activation=\"relu\"),\n",
    "    layers.Dense(16, activation=\"relu\"),\n",
    "    layers.Dense(1, activation=\"sigmoid\")\n",
    "])\n",
    "model.compile(optimizer=\"rmsprop\",\n",
    "              loss=\"binary_crossentropy\",\n",
    "              metrics=[\"accuracy\"])\n",
    "model.fit(x_train, y_train, epochs=4, batch_size=512)\n",
    "results = model.evaluate(x_test, y_test)"
   ]
  },
  {
   "cell_type": "code",
   "execution_count": null,
   "metadata": {
    "id": "EqY1f04mSWzB"
   },
   "outputs": [],
   "source": []
  },
  {
   "cell_type": "markdown",
   "metadata": {
    "id": "3D46qt5-SWzB"
   },
   "source": [
    "### Using a trained model to generate predictions on new data"
   ]
  },
  {
   "cell_type": "code",
   "execution_count": 20,
   "metadata": {
    "colab": {
     "base_uri": "https://localhost:8080/"
    },
    "id": "ikqtBwDHSWzB",
    "outputId": "1ab238b7-89cd-4a6a-871c-c91b03828174"
   },
   "outputs": [
    {
     "data": {
      "text/plain": [
       "array([[0.16392902],\n",
       "       [0.9981135 ],\n",
       "       [0.77815944],\n",
       "       ...,\n",
       "       [0.11672992],\n",
       "       [0.06937361],\n",
       "       [0.4931144 ]], dtype=float32)"
      ]
     },
     "execution_count": 20,
     "metadata": {},
     "output_type": "execute_result"
    }
   ],
   "source": [
    "model.predict(x_test)"
   ]
  },
  {
   "cell_type": "markdown",
   "metadata": {},
   "source": [
    "(1) What type of preprocessing was applied to the raw input data? Why was\n",
    "it necessary to do so?\n",
    "\n",
    "(2) Does your model suffer from overfitting? If so, what would you suggest\n",
    "doing about it?\n",
    "\n",
    "(3) Is accuracy a good metric of success in this case? Why (not)?"
   ]
  },
  {
   "cell_type": "markdown",
   "metadata": {},
   "source": [
    "1- We are not able to send lists of integers into a neural network. We have to convert  lists into\n",
    "tensors.Two ways below:\n",
    "\n",
    "A. We could pad our lists so that they all have the same length and turn them into an integer\n",
    "tensor shape , then use as first layer in our network a (samples, word_indices)\n",
    "layer capable of handling such integer tensors(above)\n",
    "\n",
    "B. We could one-hot-encode our lists to turn them into vectors of 0s and 1s. This\n",
    "would mean for instance turning the sequence into a 10,000-dimensional vector [3, 5]\n",
    "that would be all-zeros except for indices 3 and 5, which would be ones. Then we could\n",
    "use as first layer in our network a layer, capable of handling floating point vector Dense\n",
    "data."
   ]
  },
  {
   "cell_type": "markdown",
   "metadata": {},
   "source": [
    "2- This is an example of what we were warning against earlier: a model that performs better on the training data isn’t  a model that will do better on data it has never seen before.What we are seeing is \"overfitting\": after the second epoch, we are over-optimizing on the training data,"
   ]
  },
  {
   "cell_type": "markdown",
   "metadata": {},
   "source": [
    "3 -The dots are the training loss and accuracy, while the solid lines are the validation\n",
    "loss and accuracy. you can see my results are slightly different due to a different random\n",
    "initialization of network. you can see the training loss decreases with every epoch and the training accuracy\n",
    "increases with every epoch. That is considered a expectation when running gradient\n",
    "descent optimization. The quantity you are trying to minimize should get lower with\n",
    "every iteration. But that isn’t the case for the validation loss and accuracy: they seem to\n",
    "peak at the fourth epoch. It is a good metric because it helped me determine overfitting also helps me determine correct number of predictions which is a what we need in this use case."
   ]
  },
  {
   "cell_type": "markdown",
   "metadata": {
    "id": "C15mmBXeW3ZG"
   },
   "source": [
    "## PART 2 - Multiclass classification of newswires using the Reuters dataset\n",
    "\n",
    "Once again, we will start with a simple solution using a fully-connected neural network architecture. "
   ]
  },
  {
   "cell_type": "markdown",
   "metadata": {
    "id": "mlFE0npdxh6j"
   },
   "source": [
    "### The Reuters dataset"
   ]
  },
  {
   "cell_type": "markdown",
   "metadata": {
    "id": "2rlaaGT5xh6j"
   },
   "source": [
    "#### Loading the Reuters dataset"
   ]
  },
  {
   "cell_type": "code",
   "execution_count": 117,
   "metadata": {
    "colab": {
     "base_uri": "https://localhost:8080/"
    },
    "id": "mF_v9mnCxh6k",
    "outputId": "ce84b6b0-bc57-4487-94e4-ebc4efb5e5c6"
   },
   "outputs": [],
   "source": [
    "from tensorflow.keras.datasets import reuters\n",
    "(train_data, train_labels), (test_data, test_labels) = reuters.load_data(\n",
    "    num_words=10000)"
   ]
  },
  {
   "cell_type": "code",
   "execution_count": 118,
   "metadata": {
    "colab": {
     "base_uri": "https://localhost:8080/"
    },
    "id": "a9HDPrTzxh6k",
    "outputId": "7d2009ff-d9d2-48f0-8270-bd2a58ceee44"
   },
   "outputs": [
    {
     "data": {
      "text/plain": [
       "8982"
      ]
     },
     "execution_count": 118,
     "metadata": {},
     "output_type": "execute_result"
    }
   ],
   "source": [
    "len(train_data)"
   ]
  },
  {
   "cell_type": "code",
   "execution_count": 119,
   "metadata": {
    "colab": {
     "base_uri": "https://localhost:8080/"
    },
    "id": "chhwyrjsxh6k",
    "outputId": "b1121a77-c251-4865-ee3e-716f07d5c283"
   },
   "outputs": [
    {
     "data": {
      "text/plain": [
       "2246"
      ]
     },
     "execution_count": 119,
     "metadata": {},
     "output_type": "execute_result"
    }
   ],
   "source": [
    "len(test_data)"
   ]
  },
  {
   "cell_type": "code",
   "execution_count": 120,
   "metadata": {
    "colab": {
     "base_uri": "https://localhost:8080/"
    },
    "id": "6MLEiOe6xh6k",
    "outputId": "0ee8544b-b722-4ecb-96b5-7644d6faac8b"
   },
   "outputs": [
    {
     "data": {
      "text/plain": [
       "[1,\n",
       " 245,\n",
       " 273,\n",
       " 207,\n",
       " 156,\n",
       " 53,\n",
       " 74,\n",
       " 160,\n",
       " 26,\n",
       " 14,\n",
       " 46,\n",
       " 296,\n",
       " 26,\n",
       " 39,\n",
       " 74,\n",
       " 2979,\n",
       " 3554,\n",
       " 14,\n",
       " 46,\n",
       " 4689,\n",
       " 4329,\n",
       " 86,\n",
       " 61,\n",
       " 3499,\n",
       " 4795,\n",
       " 14,\n",
       " 61,\n",
       " 451,\n",
       " 4329,\n",
       " 17,\n",
       " 12]"
      ]
     },
     "execution_count": 120,
     "metadata": {},
     "output_type": "execute_result"
    }
   ],
   "source": [
    "train_data[10]"
   ]
  },
  {
   "cell_type": "markdown",
   "metadata": {
    "id": "ndgmqtEpxh6k"
   },
   "source": [
    "#### Decoding newswires back to text"
   ]
  },
  {
   "cell_type": "code",
   "execution_count": 121,
   "metadata": {
    "id": "ldaiUmBGxh6k"
   },
   "outputs": [],
   "source": [
    "word_index = reuters.get_word_index()\n",
    "reverse_word_index = dict([(value, key) for (key, value) in word_index.items()])\n",
    "decoded_newswire = \" \".join([reverse_word_index.get(i - 3, \"?\") for i in\n",
    "    train_data[0]])"
   ]
  },
  {
   "cell_type": "code",
   "execution_count": 122,
   "metadata": {
    "colab": {
     "base_uri": "https://localhost:8080/"
    },
    "id": "2-khNfkkxh6k",
    "outputId": "bdcabc9a-5a89-4b8b-a01a-e4be1a66cad4"
   },
   "outputs": [
    {
     "data": {
      "text/plain": [
       "3"
      ]
     },
     "execution_count": 122,
     "metadata": {},
     "output_type": "execute_result"
    }
   ],
   "source": [
    "train_labels[10]"
   ]
  },
  {
   "cell_type": "markdown",
   "metadata": {
    "id": "4WwJMB6Gxh6k"
   },
   "source": [
    "### Preparing the data"
   ]
  },
  {
   "cell_type": "markdown",
   "metadata": {
    "id": "yMs-iTejxh6k"
   },
   "source": [
    "#### Encoding the input data"
   ]
  },
  {
   "cell_type": "code",
   "execution_count": 123,
   "metadata": {
    "id": "zds63peXxh6k"
   },
   "outputs": [],
   "source": [
    "x_train = vectorize_sequences(train_data)\n",
    "x_test = vectorize_sequences(test_data)"
   ]
  },
  {
   "cell_type": "markdown",
   "metadata": {
    "id": "6bncEBgYxh6k"
   },
   "source": [
    "#### Encoding the labels"
   ]
  },
  {
   "cell_type": "code",
   "execution_count": 124,
   "metadata": {
    "id": "srqpJ7ggxh6k"
   },
   "outputs": [],
   "source": [
    "def to_one_hot(labels, dimension=46):\n",
    "    results = np.zeros((len(labels), dimension))\n",
    "    for i, label in enumerate(labels):\n",
    "        results[i, label] = 1.\n",
    "    return results\n",
    "y_train = to_one_hot(train_labels)\n",
    "y_test = to_one_hot(test_labels)"
   ]
  },
  {
   "cell_type": "code",
   "execution_count": 125,
   "metadata": {
    "id": "oXv_Du2vxh6k"
   },
   "outputs": [],
   "source": [
    "from tensorflow.keras.utils import to_categorical\n",
    "y_train = to_categorical(train_labels)\n",
    "y_test = to_categorical(test_labels)"
   ]
  },
  {
   "cell_type": "markdown",
   "metadata": {
    "id": "5R4pX8KLxh6k"
   },
   "source": [
    "### Building your model"
   ]
  },
  {
   "cell_type": "markdown",
   "metadata": {
    "id": "uGU5Ex_gxh6k"
   },
   "source": [
    "#### Model definition"
   ]
  },
  {
   "cell_type": "code",
   "execution_count": 126,
   "metadata": {
    "id": "lSeVv-voxh6k"
   },
   "outputs": [],
   "source": [
    "model = keras.Sequential([\n",
    "    layers.Dense(64, activation=\"relu\"),\n",
    "    layers.Dense(64, activation=\"relu\"),\n",
    "    layers.Dense(46, activation=\"softmax\")\n",
    "])"
   ]
  },
  {
   "cell_type": "markdown",
   "metadata": {
    "id": "Hg1Y1SpMxh6k"
   },
   "source": [
    "#### Compiling the model"
   ]
  },
  {
   "cell_type": "code",
   "execution_count": 127,
   "metadata": {
    "id": "EInD8W2axh6k"
   },
   "outputs": [],
   "source": [
    "model.compile(optimizer=\"rmsprop\",\n",
    "              loss=\"categorical_crossentropy\",\n",
    "              metrics=[\"accuracy\"])"
   ]
  },
  {
   "cell_type": "markdown",
   "metadata": {
    "id": "NaBg251Axh6k"
   },
   "source": [
    "### Validating your approach"
   ]
  },
  {
   "cell_type": "markdown",
   "metadata": {
    "id": "s74Gi5vvxh6k"
   },
   "source": [
    "#### Setting aside a validation set"
   ]
  },
  {
   "cell_type": "code",
   "execution_count": 128,
   "metadata": {
    "id": "OjMkDhn-xh6k"
   },
   "outputs": [],
   "source": [
    "x_val = x_train[:1000]\n",
    "partial_x_train = x_train[1000:]\n",
    "y_val = y_train[:1000]\n",
    "partial_y_train = y_train[1000:]"
   ]
  },
  {
   "cell_type": "markdown",
   "metadata": {
    "id": "0eOTJNH_xh6k"
   },
   "source": [
    "#### Training the model"
   ]
  },
  {
   "cell_type": "code",
   "execution_count": 129,
   "metadata": {
    "colab": {
     "base_uri": "https://localhost:8080/"
    },
    "id": "-B2WgrGZxh6l",
    "outputId": "61a752a3-68bc-47d0-87dd-05c5b7274a60"
   },
   "outputs": [
    {
     "name": "stdout",
     "output_type": "stream",
     "text": [
      "Epoch 1/20\n",
      "16/16 [==============================] - 1s 22ms/step - loss: 2.7251 - accuracy: 0.5178 - val_loss: 1.8038 - val_accuracy: 0.6460\n",
      "Epoch 2/20\n",
      "16/16 [==============================] - 0s 14ms/step - loss: 1.4400 - accuracy: 0.7056 - val_loss: 1.3203 - val_accuracy: 0.7210\n",
      "Epoch 3/20\n",
      "16/16 [==============================] - 0s 14ms/step - loss: 1.0580 - accuracy: 0.7671 - val_loss: 1.1408 - val_accuracy: 0.7580\n",
      "Epoch 4/20\n",
      "16/16 [==============================] - 0s 13ms/step - loss: 0.8269 - accuracy: 0.8198 - val_loss: 1.0244 - val_accuracy: 0.7890\n",
      "Epoch 5/20\n",
      "16/16 [==============================] - 0s 14ms/step - loss: 0.6605 - accuracy: 0.8589 - val_loss: 1.0263 - val_accuracy: 0.7700\n",
      "Epoch 6/20\n",
      "16/16 [==============================] - 0s 14ms/step - loss: 0.5331 - accuracy: 0.8906 - val_loss: 0.9429 - val_accuracy: 0.8030\n",
      "Epoch 7/20\n",
      "16/16 [==============================] - 0s 13ms/step - loss: 0.4249 - accuracy: 0.9132 - val_loss: 0.9058 - val_accuracy: 0.8140\n",
      "Epoch 8/20\n",
      "16/16 [==============================] - 0s 13ms/step - loss: 0.3459 - accuracy: 0.9251 - val_loss: 0.9046 - val_accuracy: 0.8130\n",
      "Epoch 9/20\n",
      "16/16 [==============================] - 0s 13ms/step - loss: 0.2915 - accuracy: 0.9382 - val_loss: 0.9035 - val_accuracy: 0.8250\n",
      "Epoch 10/20\n",
      "16/16 [==============================] - 0s 13ms/step - loss: 0.2424 - accuracy: 0.9465 - val_loss: 0.9115 - val_accuracy: 0.8170\n",
      "Epoch 11/20\n",
      "16/16 [==============================] - 0s 14ms/step - loss: 0.2073 - accuracy: 0.9503 - val_loss: 0.9179 - val_accuracy: 0.8190\n",
      "Epoch 12/20\n",
      "16/16 [==============================] - 0s 13ms/step - loss: 0.1842 - accuracy: 0.9519 - val_loss: 0.9753 - val_accuracy: 0.8070\n",
      "Epoch 13/20\n",
      "16/16 [==============================] - 0s 13ms/step - loss: 0.1652 - accuracy: 0.9534 - val_loss: 0.9649 - val_accuracy: 0.8160\n",
      "Epoch 14/20\n",
      "16/16 [==============================] - 0s 14ms/step - loss: 0.1515 - accuracy: 0.9559 - val_loss: 0.9732 - val_accuracy: 0.8270\n",
      "Epoch 15/20\n",
      "16/16 [==============================] - 0s 13ms/step - loss: 0.1388 - accuracy: 0.9577 - val_loss: 0.9939 - val_accuracy: 0.8090\n",
      "Epoch 16/20\n",
      "16/16 [==============================] - 0s 16ms/step - loss: 0.1289 - accuracy: 0.9574 - val_loss: 0.9957 - val_accuracy: 0.8230\n",
      "Epoch 17/20\n",
      "16/16 [==============================] - 0s 13ms/step - loss: 0.1247 - accuracy: 0.9588 - val_loss: 1.0446 - val_accuracy: 0.8090\n",
      "Epoch 18/20\n",
      "16/16 [==============================] - 0s 14ms/step - loss: 0.1206 - accuracy: 0.9568 - val_loss: 1.0339 - val_accuracy: 0.8160\n",
      "Epoch 19/20\n",
      "16/16 [==============================] - 0s 14ms/step - loss: 0.1147 - accuracy: 0.9579 - val_loss: 1.0837 - val_accuracy: 0.8040\n",
      "Epoch 20/20\n",
      "16/16 [==============================] - 0s 12ms/step - loss: 0.1105 - accuracy: 0.9587 - val_loss: 1.1230 - val_accuracy: 0.8060\n"
     ]
    }
   ],
   "source": [
    "history = model.fit(partial_x_train,\n",
    "                    partial_y_train,\n",
    "                    epochs=20,\n",
    "                    batch_size=512,\n",
    "                    validation_data=(x_val, y_val))"
   ]
  },
  {
   "cell_type": "markdown",
   "metadata": {
    "id": "Pic3C9saxh6l"
   },
   "source": [
    "#### Plotting the training and validation loss"
   ]
  },
  {
   "cell_type": "code",
   "execution_count": 130,
   "metadata": {
    "colab": {
     "base_uri": "https://localhost:8080/",
     "height": 295
    },
    "id": "6YiutR18xh6l",
    "outputId": "e604d507-d00d-43d1-b0e2-e5e433244113"
   },
   "outputs": [
    {
     "data": {
      "image/png": "[encoded data removed]",
      "text/plain": [
       "<Figure size 432x288 with 1 Axes>"
      ]
     },
     "metadata": {
      "needs_background": "light"
     },
     "output_type": "display_data"
    }
   ],
   "source": [
    "loss = history.history[\"loss\"]\n",
    "val_loss = history.history[\"val_loss\"]\n",
    "epochs = range(1, len(loss) + 1)\n",
    "plt.plot(epochs, loss, \"bo\", label=\"Training loss\")\n",
    "plt.plot(epochs, val_loss, \"b\", label=\"Validation loss\")\n",
    "plt.title(\"Training and validation loss\")\n",
    "plt.xlabel(\"Epochs\")\n",
    "plt.ylabel(\"Loss\")\n",
    "plt.legend()\n",
    "plt.show()"
   ]
  },
  {
   "cell_type": "markdown",
   "metadata": {
    "id": "9JmGj8BQxh6l"
   },
   "source": [
    "#### Plotting the training and validation accuracy"
   ]
  },
  {
   "cell_type": "code",
   "execution_count": 131,
   "metadata": {
    "colab": {
     "base_uri": "https://localhost:8080/",
     "height": 295
    },
    "id": "qRJH4bWjxh6l",
    "outputId": "dff462f3-14a2-4516-ad19-db141bb06dad"
   },
   "outputs": [
    {
     "data": {
      "image/png": "[encoded data removed]",
      "text/plain": [
       "<Figure size 432x288 with 1 Axes>"
      ]
     },
     "metadata": {
      "needs_background": "light"
     },
     "output_type": "display_data"
    }
   ],
   "source": [
    "plt.clf()\n",
    "acc = history.history[\"accuracy\"]\n",
    "val_acc = history.history[\"val_accuracy\"]\n",
    "plt.plot(epochs, acc, \"bo\", label=\"Training accuracy\")\n",
    "plt.plot(epochs, val_acc, \"b\", label=\"Validation accuracy\")\n",
    "plt.title(\"Training and validation accuracy\")\n",
    "plt.xlabel(\"Epochs\")\n",
    "plt.ylabel(\"Accuracy\")\n",
    "plt.legend()\n",
    "plt.show()"
   ]
  },
  {
   "cell_type": "markdown",
   "metadata": {
    "id": "84mqw1BAy2wa"
   },
   "source": [
    "### (OPTIONAL) TODO 5\n",
    "\n",
    "Write code to try different combinations of:\n",
    "- numbers of hidden layers and units per layer \n",
    "\n",
    "Please refrain from using better architectures and \"advanced\" techniques to curb overfitting (e.g., dropout, batch normalization, weight regularization, etc.)"
   ]
  },
  {
   "cell_type": "markdown",
   "metadata": {},
   "source": [
    "I implemented three classes to achieve this todo below"
   ]
  },
  {
   "cell_type": "code",
   "execution_count": 138,
   "metadata": {},
   "outputs": [
    {
     "name": "stdout",
     "output_type": "stream",
     "text": [
      "build model\n",
      "compile model\n",
      "train data\n",
      "train model\n",
      "Epoch 1/20\n",
      "16/16 [==============================] - 1s 39ms/step - loss: 2.6523 - accuracy: 0.2975 - val_loss: 2.1994 - val_accuracy: 0.3630\n",
      "Epoch 2/20\n",
      "16/16 [==============================] - 0s 12ms/step - loss: 2.0045 - accuracy: 0.4622 - val_loss: 1.8131 - val_accuracy: 0.5540\n",
      "Epoch 3/20\n",
      "16/16 [==============================] - 0s 12ms/step - loss: 1.5909 - accuracy: 0.6280 - val_loss: 1.5099 - val_accuracy: 0.6410\n",
      "Epoch 4/20\n",
      "16/16 [==============================] - 0s 12ms/step - loss: 1.3286 - accuracy: 0.6969 - val_loss: 1.3858 - val_accuracy: 0.6950\n",
      "Epoch 5/20\n",
      "16/16 [==============================] - 0s 11ms/step - loss: 1.1505 - accuracy: 0.7326 - val_loss: 1.2678 - val_accuracy: 0.7140\n",
      "Epoch 6/20\n",
      "16/16 [==============================] - 0s 13ms/step - loss: 0.9876 - accuracy: 0.7660 - val_loss: 1.2294 - val_accuracy: 0.7290\n",
      "Epoch 7/20\n",
      "16/16 [==============================] - 0s 12ms/step - loss: 0.8614 - accuracy: 0.7937 - val_loss: 1.2420 - val_accuracy: 0.7260\n",
      "Epoch 8/20\n",
      "16/16 [==============================] - 0s 13ms/step - loss: 0.7464 - accuracy: 0.8193 - val_loss: 1.2811 - val_accuracy: 0.7310\n",
      "Epoch 9/20\n",
      "16/16 [==============================] - 0s 12ms/step - loss: 0.6422 - accuracy: 0.8452 - val_loss: 1.1613 - val_accuracy: 0.7710\n",
      "Epoch 10/20\n",
      "16/16 [==============================] - 0s 13ms/step - loss: 0.5634 - accuracy: 0.8682 - val_loss: 1.2170 - val_accuracy: 0.7610\n",
      "Epoch 11/20\n",
      "16/16 [==============================] - 0s 12ms/step - loss: 0.4998 - accuracy: 0.8842 - val_loss: 1.1906 - val_accuracy: 0.7710\n",
      "Epoch 12/20\n",
      "16/16 [==============================] - 0s 12ms/step - loss: 0.4629 - accuracy: 0.8899 - val_loss: 1.2963 - val_accuracy: 0.7550\n",
      "Epoch 13/20\n",
      "16/16 [==============================] - 0s 12ms/step - loss: 0.3839 - accuracy: 0.9112 - val_loss: 1.3534 - val_accuracy: 0.7470\n",
      "Epoch 14/20\n",
      "16/16 [==============================] - 0s 12ms/step - loss: 0.3820 - accuracy: 0.9116 - val_loss: 1.2212 - val_accuracy: 0.7900\n",
      "Epoch 15/20\n",
      "16/16 [==============================] - 0s 12ms/step - loss: 0.3014 - accuracy: 0.9311 - val_loss: 1.2510 - val_accuracy: 0.7880\n",
      "Epoch 16/20\n",
      "16/16 [==============================] - 0s 11ms/step - loss: 0.3091 - accuracy: 0.9282 - val_loss: 1.3551 - val_accuracy: 0.7750\n",
      "Epoch 17/20\n",
      "16/16 [==============================] - 0s 12ms/step - loss: 0.2627 - accuracy: 0.9392 - val_loss: 1.3259 - val_accuracy: 0.7900\n",
      "Epoch 18/20\n",
      "16/16 [==============================] - 0s 12ms/step - loss: 0.2758 - accuracy: 0.9335 - val_loss: 1.3758 - val_accuracy: 0.7840\n",
      "Epoch 19/20\n",
      "16/16 [==============================] - 0s 11ms/step - loss: 0.2285 - accuracy: 0.9454 - val_loss: 1.3280 - val_accuracy: 0.7930\n",
      "Epoch 20/20\n",
      "16/16 [==============================] - 0s 10ms/step - loss: 0.2771 - accuracy: 0.9303 - val_loss: 1.3768 - val_accuracy: 0.8000\n",
      "Plotting the training and validation loss\n"
     ]
    },
    {
     "data": {
      "image/png": "[encoded data removed]",
      "text/plain": [
       "<Figure size 432x288 with 1 Axes>"
      ]
     },
     "metadata": {
      "needs_background": "light"
     },
     "output_type": "display_data"
    },
    {
     "name": "stdout",
     "output_type": "stream",
     "text": [
      "Plotting the training and validation loss\n"
     ]
    },
    {
     "data": {
      "image/png": "[encoded data removed]",
      "text/plain": [
       "<Figure size 432x288 with 1 Axes>"
      ]
     },
     "metadata": {
      "needs_background": "light"
     },
     "output_type": "display_data"
    },
    {
     "data": {
      "text/plain": [
       "<__main__.Todo5 at 0x1d6cde54340>"
      ]
     },
     "execution_count": 138,
     "metadata": {},
     "output_type": "execute_result"
    }
   ],
   "source": [
    "class Todo5_A:\n",
    "\n",
    "    # init method or constructor   \n",
    "    def __init__(self,x,y ):\n",
    "        self.x_train = x\n",
    "        self.y_train = y\n",
    "        self.build()\n",
    "\n",
    "    def build(self):\n",
    "        self.build_model()\n",
    "        self.compile_model()\n",
    "        self.train_data()\n",
    "        self.train_Model()\n",
    "        self.plot_A()\n",
    "        self.plot_B()\n",
    "\n",
    "    def build_model(self):\n",
    "        print(\"build model\")\n",
    "        self.model = keras.Sequential([\n",
    "            layers.Dense(48, activation=\"softplus\"),\n",
    "            layers.Dense(48, activation=\"softplus\"),\n",
    "            layers.Dense(64, activation=\"softplus\"),\n",
    "            layers.Dense(64, activation=\"softplus\"),\n",
    "            layers.Dense(46, activation=\"softmax\")\n",
    "        ])\n",
    "\n",
    "    def compile_model(self):\n",
    "        print(\"compile model\")\n",
    "        self.model.compile(optimizer=\"rmsprop\",\n",
    "                      loss=\"categorical_crossentropy\",\n",
    "                      metrics=[\"accuracy\"])\n",
    "\n",
    "    def train_data(self):\n",
    "        print(\"train data\")\n",
    "        self.x_val_optional = self.x_train[:1000]\n",
    "        self.partial_x_train_optional = self.x_train[1000:]\n",
    "        self.y_val_optional = self.y_train[:1000]\n",
    "        self.partial_y_train_optional = self.y_train[1000:]\n",
    "        \n",
    "    def train_Model(self):\n",
    "        print(\"train model\")\n",
    "        self.history_optional = self.model.fit(self.partial_x_train_optional,\n",
    "                                     self.partial_y_train_optional,\n",
    "                                     epochs=20,\n",
    "                                     batch_size=512,\n",
    "                                     validation_data=(self.x_val_optional, self.y_val_optional))\n",
    "    def plot_A(self):\n",
    "        print(\"Plotting the training and validation loss\")\n",
    "        self.loss = self.history_optional.history[\"loss\"]\n",
    "        self.val_loss =self.history_optional.history[\"val_loss\"]\n",
    "        self.epochs = range(1, len(self.loss) + 1)\n",
    "        plt.plot(self.epochs, self.loss, \"bo\", label=\"Training loss\")\n",
    "        plt.plot(self.epochs, self.val_loss, \"b\", label=\"Validation loss\")\n",
    "        plt.title(\"Training and validation loss\")\n",
    "        plt.xlabel(\"Epochs\")\n",
    "        plt.ylabel(\"Loss\")\n",
    "        plt.legend()\n",
    "        plt.show()\n",
    "        \n",
    "    def plot_B(self):\n",
    "        print(\"Plotting the training and validation loss\")\n",
    "        plt.clf()\n",
    "        acc = history.history[\"accuracy\"]\n",
    "        val_acc = history.history[\"val_accuracy\"]\n",
    "        plt.plot(epochs, acc, \"bo\", label=\"Training accuracy\")\n",
    "        plt.plot(epochs, val_acc, \"b\", label=\"Validation accuracy\")\n",
    "        plt.title(\"Training and validation accuracy\")\n",
    "        plt.xlabel(\"Epochs\")\n",
    "        plt.ylabel(\"Accuracy\")\n",
    "        plt.legend()\n",
    "        plt.show()\n",
    "Todo5_A(x_train,y_train)"
   ]
  },
  {
   "cell_type": "code",
   "execution_count": 139,
   "metadata": {},
   "outputs": [
    {
     "name": "stdout",
     "output_type": "stream",
     "text": [
      "build model\n",
      "compile model\n",
      "train data\n",
      "train model\n",
      "Epoch 1/20\n",
      "16/16 [==============================] - 1s 19ms/step - loss: 11.1713 - accuracy: 0.1128 - val_loss: 10.2257 - val_accuracy: 0.1450\n",
      "Epoch 2/20\n",
      "16/16 [==============================] - 0s 12ms/step - loss: 11.4706 - accuracy: 0.1706 - val_loss: 10.9162 - val_accuracy: 0.1030\n",
      "Epoch 3/20\n",
      "16/16 [==============================] - 0s 14ms/step - loss: 10.9816 - accuracy: 0.0990 - val_loss: 12.9462 - val_accuracy: 0.1140\n",
      "Epoch 4/20\n",
      "16/16 [==============================] - 0s 13ms/step - loss: 12.6787 - accuracy: 0.1616 - val_loss: 12.2038 - val_accuracy: 0.1430\n",
      "Epoch 5/20\n",
      "16/16 [==============================] - 0s 13ms/step - loss: 11.6376 - accuracy: 0.1211 - val_loss: 12.3299 - val_accuracy: 0.0710\n",
      "Epoch 6/20\n",
      "16/16 [==============================] - 0s 13ms/step - loss: 10.6719 - accuracy: 0.0218 - val_loss: 11.1883 - val_accuracy: 0.0030\n",
      "Epoch 7/20\n",
      "16/16 [==============================] - 0s 12ms/step - loss: 11.4438 - accuracy: 0.0075 - val_loss: 11.0149 - val_accuracy: 0.0030\n",
      "Epoch 8/20\n",
      "16/16 [==============================] - 0s 12ms/step - loss: 10.2164 - accuracy: 0.0089 - val_loss: 12.9779 - val_accuracy: 0.0080\n",
      "Epoch 9/20\n",
      "16/16 [==============================] - 0s 12ms/step - loss: 13.1322 - accuracy: 0.0188 - val_loss: 12.7254 - val_accuracy: 0.0110\n",
      "Epoch 10/20\n",
      "16/16 [==============================] - 0s 11ms/step - loss: 12.4196 - accuracy: 0.0272 - val_loss: 10.7583 - val_accuracy: 0.0320\n",
      "Epoch 11/20\n",
      "16/16 [==============================] - 0s 11ms/step - loss: 11.7240 - accuracy: 0.0692 - val_loss: 13.1736 - val_accuracy: 0.0640\n",
      "Epoch 12/20\n",
      "16/16 [==============================] - 0s 12ms/step - loss: 13.4517 - accuracy: 0.0789 - val_loss: 12.8646 - val_accuracy: 0.0580\n",
      "Epoch 13/20\n",
      "16/16 [==============================] - 0s 12ms/step - loss: 12.4148 - accuracy: 0.0724 - val_loss: 6.6119 - val_accuracy: 0.1540\n",
      "Epoch 14/20\n",
      "16/16 [==============================] - 0s 12ms/step - loss: 12.6982 - accuracy: 0.1681 - val_loss: 12.9638 - val_accuracy: 0.1530\n",
      "Epoch 15/20\n",
      "16/16 [==============================] - 0s 12ms/step - loss: 13.8030 - accuracy: 0.1614 - val_loss: 10.0779 - val_accuracy: 0.1380\n",
      "Epoch 16/20\n",
      "16/16 [==============================] - 0s 12ms/step - loss: 12.3500 - accuracy: 0.2164 - val_loss: 13.0810 - val_accuracy: 0.2290\n",
      "Epoch 17/20\n",
      "16/16 [==============================] - 0s 12ms/step - loss: 13.9560 - accuracy: 0.2364 - val_loss: 11.2398 - val_accuracy: 0.2280\n",
      "Epoch 18/20\n",
      "16/16 [==============================] - 0s 13ms/step - loss: 12.3164 - accuracy: 0.2502 - val_loss: 13.3041 - val_accuracy: 0.2580\n",
      "Epoch 19/20\n",
      "16/16 [==============================] - 0s 11ms/step - loss: 14.2186 - accuracy: 0.2631 - val_loss: 12.9678 - val_accuracy: 0.2560\n",
      "Epoch 20/20\n",
      "16/16 [==============================] - 0s 9ms/step - loss: 14.2327 - accuracy: 0.2663 - val_loss: 13.5303 - val_accuracy: 0.2590\n",
      "Plotting the training and validation loss\n"
     ]
    },
    {
     "data": {
      "image/png": "[encoded data removed]",
      "text/plain": [
       "<Figure size 432x288 with 1 Axes>"
      ]
     },
     "metadata": {
      "needs_background": "light"
     },
     "output_type": "display_data"
    },
    {
     "name": "stdout",
     "output_type": "stream",
     "text": [
      "Plotting the training and validation loss\n"
     ]
    },
    {
     "data": {
      "image/png": "[encoded data removed]",
      "text/plain": [
       "<Figure size 432x288 with 1 Axes>"
      ]
     },
     "metadata": {
      "needs_background": "light"
     },
     "output_type": "display_data"
    },
    {
     "data": {
      "text/plain": [
       "<__main__.Todo5 at 0x1d6bf9c0d00>"
      ]
     },
     "execution_count": 139,
     "metadata": {},
     "output_type": "execute_result"
    }
   ],
   "source": [
    "class Todo5_B:\n",
    "\n",
    "    # init method or constructor   \n",
    "    def __init__(self,x,y ):\n",
    "        self.x_train = x\n",
    "        self.y_train = y\n",
    "        self.build()\n",
    "\n",
    "    def build(self):\n",
    "        self.build_model()\n",
    "        self.compile_model()\n",
    "        self.train_data()\n",
    "        self.train_Model()\n",
    "        self.plot_A()\n",
    "        self.plot_B()\n",
    "\n",
    "    def build_model(self):\n",
    "        print(\"build model\")\n",
    "        self.model = keras.Sequential([\n",
    "            layers.Dense(48, activation=\"softsign\"),\n",
    "            layers.Dense(48, activation=\"softsign\"),\n",
    "            layers.Dense(46, activation=\"tanh\")\n",
    "        ])\n",
    "\n",
    "    def compile_model(self):\n",
    "        print(\"compile model\")\n",
    "        self.model.compile(optimizer=\"rmsprop\",\n",
    "                      loss=\"categorical_crossentropy\",\n",
    "                      metrics=[\"accuracy\"])\n",
    "\n",
    "    def train_data(self):\n",
    "        print(\"train data\")\n",
    "        self.x_val_optional = self.x_train[:1000]\n",
    "        self.partial_x_train_optional = self.x_train[1000:]\n",
    "        self.y_val_optional = self.y_train[:1000]\n",
    "        self.partial_y_train_optional = self.y_train[1000:]\n",
    "        \n",
    "    def train_Model(self):\n",
    "        print(\"train model\")\n",
    "        self.history_optional = self.model.fit(self.partial_x_train_optional,\n",
    "                                     self.partial_y_train_optional,\n",
    "                                     epochs=20,\n",
    "                                     batch_size=512,\n",
    "                                     validation_data=(self.x_val_optional, self.y_val_optional))\n",
    "    def plot_A(self):\n",
    "        print(\"Plotting the training and validation loss\")\n",
    "        self.loss = self.history_optional.history[\"loss\"]\n",
    "        self.val_loss =self.history_optional.history[\"val_loss\"]\n",
    "        self.epochs = range(1, len(self.loss) + 1)\n",
    "        plt.plot(self.epochs, self.loss, \"bo\", label=\"Training loss\")\n",
    "        plt.plot(self.epochs, self.val_loss, \"b\", label=\"Validation loss\")\n",
    "        plt.title(\"Training and validation loss\")\n",
    "        plt.xlabel(\"Epochs\")\n",
    "        plt.ylabel(\"Loss\")\n",
    "        plt.legend()\n",
    "        plt.show()\n",
    "        \n",
    "    def plot_B(self):\n",
    "        print(\"Plotting the training and validation loss\")\n",
    "        plt.clf()\n",
    "        acc = history.history[\"accuracy\"]\n",
    "        val_acc = history.history[\"val_accuracy\"]\n",
    "        plt.plot(epochs, acc, \"bo\", label=\"Training accuracy\")\n",
    "        plt.plot(epochs, val_acc, \"b\", label=\"Validation accuracy\")\n",
    "        plt.title(\"Training and validation accuracy\")\n",
    "        plt.xlabel(\"Epochs\")\n",
    "        plt.ylabel(\"Accuracy\")\n",
    "        plt.legend()\n",
    "        plt.show()\n",
    "Todo5_B(x_train,y_train)"
   ]
  },
  {
   "cell_type": "code",
   "execution_count": 137,
   "metadata": {},
   "outputs": [
    {
     "name": "stdout",
     "output_type": "stream",
     "text": [
      "build_model\n",
      "compile model\n",
      "train data\n",
      "train model\n",
      "Epoch 1/20\n",
      "16/16 [==============================] - 1s 21ms/step - loss: 2.5394 - accuracy: 0.5298 - val_loss: 1.6929 - val_accuracy: 0.6420\n",
      "Epoch 2/20\n",
      "16/16 [==============================] - 0s 15ms/step - loss: 1.3980 - accuracy: 0.7050 - val_loss: 1.3091 - val_accuracy: 0.7180\n",
      "Epoch 3/20\n",
      "16/16 [==============================] - 0s 14ms/step - loss: 1.0581 - accuracy: 0.7752 - val_loss: 1.1550 - val_accuracy: 0.7470\n",
      "Epoch 4/20\n",
      "16/16 [==============================] - 0s 14ms/step - loss: 0.8408 - accuracy: 0.8256 - val_loss: 1.0657 - val_accuracy: 0.7680\n",
      "Epoch 5/20\n",
      "16/16 [==============================] - 0s 16ms/step - loss: 0.6749 - accuracy: 0.8581 - val_loss: 1.0127 - val_accuracy: 0.7870\n",
      "Epoch 6/20\n",
      "16/16 [==============================] - 0s 14ms/step - loss: 0.5435 - accuracy: 0.8881 - val_loss: 0.9766 - val_accuracy: 0.7930\n",
      "Epoch 7/20\n",
      "16/16 [==============================] - 0s 14ms/step - loss: 0.4386 - accuracy: 0.9089 - val_loss: 0.9361 - val_accuracy: 0.8080\n",
      "Epoch 8/20\n",
      "16/16 [==============================] - 0s 13ms/step - loss: 0.3564 - accuracy: 0.9253 - val_loss: 0.9240 - val_accuracy: 0.8110\n",
      "Epoch 9/20\n",
      "16/16 [==============================] - 0s 14ms/step - loss: 0.2979 - accuracy: 0.9371 - val_loss: 0.9534 - val_accuracy: 0.8060\n",
      "Epoch 10/20\n",
      "16/16 [==============================] - 0s 13ms/step - loss: 0.2494 - accuracy: 0.9442 - val_loss: 0.9190 - val_accuracy: 0.8150\n",
      "Epoch 11/20\n",
      "16/16 [==============================] - 0s 14ms/step - loss: 0.2146 - accuracy: 0.9494 - val_loss: 1.0301 - val_accuracy: 0.7960\n",
      "Epoch 12/20\n",
      "16/16 [==============================] - 0s 14ms/step - loss: 0.1899 - accuracy: 0.9510 - val_loss: 0.9656 - val_accuracy: 0.8100\n",
      "Epoch 13/20\n",
      "16/16 [==============================] - 0s 14ms/step - loss: 0.1739 - accuracy: 0.9531 - val_loss: 0.9613 - val_accuracy: 0.8150\n",
      "Epoch 14/20\n",
      "16/16 [==============================] - 0s 14ms/step - loss: 0.1568 - accuracy: 0.9549 - val_loss: 1.0110 - val_accuracy: 0.8080\n",
      "Epoch 15/20\n",
      "16/16 [==============================] - 0s 14ms/step - loss: 0.1410 - accuracy: 0.9565 - val_loss: 1.0063 - val_accuracy: 0.8100\n",
      "Epoch 16/20\n",
      "16/16 [==============================] - 0s 13ms/step - loss: 0.1359 - accuracy: 0.9553 - val_loss: 0.9967 - val_accuracy: 0.8160\n",
      "Epoch 17/20\n",
      "16/16 [==============================] - 0s 13ms/step - loss: 0.1324 - accuracy: 0.9567 - val_loss: 1.0305 - val_accuracy: 0.8090\n",
      "Epoch 18/20\n",
      "16/16 [==============================] - 0s 13ms/step - loss: 0.1211 - accuracy: 0.9567 - val_loss: 1.0507 - val_accuracy: 0.8010\n",
      "Epoch 19/20\n",
      "16/16 [==============================] - 0s 13ms/step - loss: 0.1195 - accuracy: 0.9573 - val_loss: 1.1242 - val_accuracy: 0.7980\n",
      "Epoch 20/20\n",
      "16/16 [==============================] - 0s 11ms/step - loss: 0.1143 - accuracy: 0.9573 - val_loss: 1.1239 - val_accuracy: 0.8040\n",
      "Plotting the training and validation loss\n"
     ]
    },
    {
     "data": {
      "image/png": "[encoded data removed]",
      "text/plain": [
       "<Figure size 432x288 with 1 Axes>"
      ]
     },
     "metadata": {
      "needs_background": "light"
     },
     "output_type": "display_data"
    },
    {
     "name": "stdout",
     "output_type": "stream",
     "text": [
      "Plotting the training and validation loss\n"
     ]
    },
    {
     "data": {
      "image/png": "[encoded data removed]",
      "text/plain": [
       "<Figure size 432x288 with 1 Axes>"
      ]
     },
     "metadata": {
      "needs_background": "light"
     },
     "output_type": "display_data"
    },
    {
     "data": {
      "text/plain": [
       "<__main__.Todo5 at 0x1d6b6296f10>"
      ]
     },
     "execution_count": 137,
     "metadata": {},
     "output_type": "execute_result"
    }
   ],
   "source": [
    "class Todo5_C:\n",
    "\n",
    "    # init method or constructor   \n",
    "    def __init__(self,x,y ):\n",
    "        self.x_train = x\n",
    "        self.y_train = y\n",
    "        self.build()\n",
    "\n",
    "    def build(self):\n",
    "        self.build_model()\n",
    "        self.compile_model()\n",
    "        self.train_data()\n",
    "        self.train_Model()\n",
    "        self.plot_A()\n",
    "        self.plot_B()\n",
    "\n",
    "    def build_model(self):\n",
    "        print(\"build model\")\n",
    "        self.model = keras.Sequential([\n",
    "            layers.Dense(64, activation=\"relu\"),\n",
    "            layers.Dense(64, activation=\"relu\"),\n",
    "            layers.Dense(46, activation=\"softmax\")\n",
    "        ])\n",
    "\n",
    "    def compile_model(self):\n",
    "        print(\"compile model\")\n",
    "        self.model.compile(optimizer=\"rmsprop\",\n",
    "                      loss=\"categorical_crossentropy\",\n",
    "                      metrics=[\"accuracy\"])\n",
    "\n",
    "    def train_data(self):\n",
    "        print(\"train data\")\n",
    "        self.x_val_optional = self.x_train[:1000]\n",
    "        self.partial_x_train_optional = self.x_train[1000:]\n",
    "        self.y_val_optional = self.y_train[:1000]\n",
    "        self.partial_y_train_optional = self.y_train[1000:]\n",
    "        \n",
    "    def train_Model(self):\n",
    "        print(\"train model\")\n",
    "        self.history_optional = self.model.fit(self.partial_x_train_optional,\n",
    "                                     self.partial_y_train_optional,\n",
    "                                     epochs=20,\n",
    "                                     batch_size=512,\n",
    "                                     validation_data=(self.x_val_optional, self.y_val_optional))\n",
    "    def plot_A(self):\n",
    "        print(\"Plotting the training and validation loss\")\n",
    "        self.loss = self.history_optional.history[\"loss\"]\n",
    "        self.val_loss =self.history_optional.history[\"val_loss\"]\n",
    "        self.epochs = range(1, len(self.loss) + 1)\n",
    "        plt.plot(self.epochs, self.loss, \"bo\", label=\"Training loss\")\n",
    "        plt.plot(self.epochs, self.val_loss, \"b\", label=\"Validation loss\")\n",
    "        plt.title(\"Training and validation loss\")\n",
    "        plt.xlabel(\"Epochs\")\n",
    "        plt.ylabel(\"Loss\")\n",
    "        plt.legend()\n",
    "        plt.show()\n",
    "        \n",
    "    def plot_B(self):\n",
    "        print(\"Plotting the training and validation loss\")\n",
    "        plt.clf()\n",
    "        acc = history.history[\"accuracy\"]\n",
    "        val_acc = history.history[\"val_accuracy\"]\n",
    "        plt.plot(epochs, acc, \"bo\", label=\"Training accuracy\")\n",
    "        plt.plot(epochs, val_acc, \"b\", label=\"Validation accuracy\")\n",
    "        plt.title(\"Training and validation accuracy\")\n",
    "        plt.xlabel(\"Epochs\")\n",
    "        plt.ylabel(\"Accuracy\")\n",
    "        plt.legend()\n",
    "        plt.show()\n",
    "Todo5_C(x_train,y_train)"
   ]
  },
  {
   "cell_type": "markdown",
   "metadata": {
    "id": "UYlIZAhOxh6l"
   },
   "source": [
    "### Retraining a model from scratch"
   ]
  },
  {
   "cell_type": "code",
   "execution_count": 36,
   "metadata": {
    "colab": {
     "base_uri": "https://localhost:8080/"
    },
    "id": "Ijowt_xKxh6l",
    "outputId": "520286ef-e258-4c4c-a5c1-0e76c3f4baed"
   },
   "outputs": [
    {
     "name": "stdout",
     "output_type": "stream",
     "text": [
      "Epoch 1/9\n",
      "18/18 [==============================] - 1s 12ms/step - loss: 2.6147 - accuracy: 0.5320\n",
      "Epoch 2/9\n",
      "18/18 [==============================] - 0s 12ms/step - loss: 1.3787 - accuracy: 0.7177\n",
      "Epoch 3/9\n",
      "18/18 [==============================] - 0s 11ms/step - loss: 1.0085 - accuracy: 0.7934\n",
      "Epoch 4/9\n",
      "18/18 [==============================] - 0s 11ms/step - loss: 0.7885 - accuracy: 0.8383\n",
      "Epoch 5/9\n",
      "18/18 [==============================] - 0s 11ms/step - loss: 0.6097 - accuracy: 0.8756\n",
      "Epoch 6/9\n",
      "18/18 [==============================] - 0s 10ms/step - loss: 0.4829 - accuracy: 0.8987\n",
      "Epoch 7/9\n",
      "18/18 [==============================] - 0s 11ms/step - loss: 0.3847 - accuracy: 0.9214\n",
      "Epoch 8/9\n",
      "18/18 [==============================] - 0s 11ms/step - loss: 0.3158 - accuracy: 0.9338\n",
      "Epoch 9/9\n",
      "18/18 [==============================] - 0s 9ms/step - loss: 0.2618 - accuracy: 0.9417\n",
      "71/71 [==============================] - 0s 912us/step - loss: 0.9895 - accuracy: 0.7827\n"
     ]
    }
   ],
   "source": [
    "model = keras.Sequential([\n",
    "  layers.Dense(64, activation=\"relu\"),\n",
    "  layers.Dense(64, activation=\"relu\"),\n",
    "  layers.Dense(46, activation=\"softmax\")\n",
    "])\n",
    "model.compile(optimizer=\"rmsprop\",\n",
    "              loss=\"categorical_crossentropy\",\n",
    "              metrics=[\"accuracy\"])\n",
    "model.fit(x_train,\n",
    "          y_train,\n",
    "          epochs=9,\n",
    "          batch_size=512)\n",
    "results = model.evaluate(x_test, y_test)"
   ]
  },
  {
   "cell_type": "code",
   "execution_count": 37,
   "metadata": {
    "colab": {
     "base_uri": "https://localhost:8080/"
    },
    "id": "kAIVUZb6xh6l",
    "outputId": "51bfa8d6-4ab9-40a7-e9ad-f314a308c6e1"
   },
   "outputs": [
    {
     "data": {
      "text/plain": [
       "[0.9895129203796387, 0.7827248573303223]"
      ]
     },
     "execution_count": 37,
     "metadata": {},
     "output_type": "execute_result"
    }
   ],
   "source": [
    "results"
   ]
  },
  {
   "cell_type": "code",
   "execution_count": 38,
   "metadata": {
    "colab": {
     "base_uri": "https://localhost:8080/"
    },
    "id": "HX4pyH29xh6l",
    "outputId": "b9478a02-2094-42e1-a0e6-3cd6ec051626"
   },
   "outputs": [
    {
     "data": {
      "text/plain": [
       "0.18121104185218165"
      ]
     },
     "execution_count": 38,
     "metadata": {},
     "output_type": "execute_result"
    }
   ],
   "source": [
    "import copy\n",
    "test_labels_copy = copy.copy(test_labels)\n",
    "np.random.shuffle(test_labels_copy)\n",
    "hits_array = np.array(test_labels) == np.array(test_labels_copy)\n",
    "hits_array.mean()"
   ]
  },
  {
   "cell_type": "markdown",
   "metadata": {
    "id": "l3dqoSqLxh6l"
   },
   "source": [
    "### Generating predictions on new data"
   ]
  },
  {
   "cell_type": "code",
   "execution_count": 39,
   "metadata": {
    "id": "uYgeNbuqtyXm"
   },
   "outputs": [],
   "source": [
    "predictions = model.predict(x_test)"
   ]
  },
  {
   "cell_type": "code",
   "execution_count": 40,
   "metadata": {
    "colab": {
     "base_uri": "https://localhost:8080/"
    },
    "id": "wmT-HLN-tyXn",
    "outputId": "6b7c0b31-629d-4af7-e4ff-1d9870dc2dc2"
   },
   "outputs": [
    {
     "data": {
      "text/plain": [
       "(46,)"
      ]
     },
     "execution_count": 40,
     "metadata": {},
     "output_type": "execute_result"
    }
   ],
   "source": [
    "predictions[0].shape"
   ]
  },
  {
   "cell_type": "code",
   "execution_count": 41,
   "metadata": {
    "colab": {
     "base_uri": "https://localhost:8080/"
    },
    "id": "HRZlehzityXp",
    "outputId": "14112d58-6097-49e0-bec3-02a38c304376"
   },
   "outputs": [
    {
     "data": {
      "text/plain": [
       "0.9999998"
      ]
     },
     "execution_count": 41,
     "metadata": {},
     "output_type": "execute_result"
    }
   ],
   "source": [
    "np.sum(predictions[0])"
   ]
  },
  {
   "cell_type": "code",
   "execution_count": 42,
   "metadata": {
    "colab": {
     "base_uri": "https://localhost:8080/"
    },
    "id": "YpKyKUaAtyXp",
    "outputId": "39934ef5-f4ea-4903-b3e6-c61e4ea00bd7"
   },
   "outputs": [
    {
     "data": {
      "text/plain": [
       "3"
      ]
     },
     "execution_count": 42,
     "metadata": {},
     "output_type": "execute_result"
    }
   ],
   "source": [
    "np.argmax(predictions[0])"
   ]
  },
  {
   "cell_type": "markdown",
   "metadata": {},
   "source": [
    "(1) What type of preprocessing was applied to the raw input data? Why was\n",
    "it necessary to do so?\n",
    "\n",
    "(2) How many categories are there in this case?\n",
    "\n",
    "(3) Does your model suffer from overfitting? If so, what would you suggest\n",
    "doing about it?\n",
    "\n",
    "(4) Is accuracy a good metric of success in this case? Why (not)?"
   ]
  },
  {
   "cell_type": "markdown",
   "metadata": {},
   "source": [
    "1- The processing we used is called vectorization To vectorize the labels, there are two possibilities: we could just cast the label list as\n",
    "an integer tensor, or we could use a \"one-hot\" encoding.\n",
    "A. One-hot encoding is a widely used format for categorical data, also called \"categorical encoding\". \n",
    "For more information on on one-hot encoding,I found it in Chapter 6, Section 1 in the book referenced by professor.\n",
    "B. In our case,one-hot encoding of our labels consists in embedding each label as an all-zero vector\n",
    "with a 1 in the place of the label index, e.g."
   ]
  },
  {
   "cell_type": "markdown",
   "metadata": {},
   "source": [
    "2 - this topic classification problem looks  similar to our previous movie review\n",
    "classification problem in problem number 1: in both cases, we are trying to classify short snippets of text.\n",
    "In this use case case we have one more requirement though here: the number of output classes has gone from 2 to\n",
    "46,. the dimensionality of the output is much larger. So we have a 46 output classes for categories."
   ]
  },
  {
   "cell_type": "markdown",
   "metadata": {},
   "source": [
    "3- It seems that the network starts overfitting after 9 epochs."
   ]
  },
  {
   "cell_type": "markdown",
   "metadata": {},
   "source": [
    "4 -Accuracy in this use case is a helpful metric.Again accuracy gives the values of correct predictions. When you view output above in resutls you can see accuracy hit  close to 80%.In the text book it shows examples for different use cases reach about 50% with random classifiers. When you look at the results after evaluate method above this shows we did pretty good compared to a random classifiers. "
   ]
  },
  {
   "cell_type": "markdown",
   "metadata": {
    "id": "fl1SvjrIxh6m"
   },
   "source": [
    "## PART 3 - Regression for house price estimation using the Boston Housing Price dataset"
   ]
  },
  {
   "cell_type": "markdown",
   "metadata": {
    "id": "OxNY2Tttxh6m"
   },
   "source": [
    "### The Boston Housing Price dataset"
   ]
  },
  {
   "cell_type": "markdown",
   "metadata": {
    "id": "xH8hygQBxh6m"
   },
   "source": [
    "#### Loading the Boston housing dataset"
   ]
  },
  {
   "cell_type": "code",
   "execution_count": 174,
   "metadata": {
    "id": "Bw_cuN9_xh6m"
   },
   "outputs": [],
   "source": [
    "from tensorflow.keras.datasets import boston_housing\n",
    "(train_data, train_targets), (test_data, test_targets) = boston_housing.load_data()"
   ]
  },
  {
   "cell_type": "code",
   "execution_count": 175,
   "metadata": {
    "colab": {
     "base_uri": "https://localhost:8080/"
    },
    "id": "qcQzcVTTxh6m",
    "outputId": "7c802bb8-aaf6-44ef-b8be-5047902ce606"
   },
   "outputs": [
    {
     "data": {
      "text/plain": [
       "(404, 13)"
      ]
     },
     "execution_count": 175,
     "metadata": {},
     "output_type": "execute_result"
    }
   ],
   "source": [
    "train_data.shape"
   ]
  },
  {
   "cell_type": "code",
   "execution_count": 176,
   "metadata": {
    "colab": {
     "base_uri": "https://localhost:8080/"
    },
    "id": "mqRzjeWdxh6m",
    "outputId": "addf3892-29d8-47ee-a7ce-6670e00cc204"
   },
   "outputs": [
    {
     "data": {
      "text/plain": [
       "(102, 13)"
      ]
     },
     "execution_count": 176,
     "metadata": {},
     "output_type": "execute_result"
    }
   ],
   "source": [
    "test_data.shape"
   ]
  },
  {
   "cell_type": "markdown",
   "metadata": {},
   "source": [
    "As you can see, we have 404 training samples and 102 test samples. The data\n",
    "comprises 13 features. The 13 features in the input data are as follow:\n",
    "1. Per capita crime rate.\n",
    "\n",
    "2. Proportion of residential land zoned for lots over 25,000 square feet\n",
    "\n",
    "3. Proportion of non-retail business acres per town.\n",
    "\n",
    "4. Charles River dummy variable (= 1 if tract bounds river; 0 otherwise).\n",
    "\n",
    "5. Nitric oxides concentration (parts per 10 million).\n",
    "\n",
    "6. Average number of rooms per dwelling.\n",
    "\n",
    "7. Proportion of owner-occupied units built prior to 1940.\n",
    "\n",
    "8. Weighted distances to five Boston employment centres.\n",
    "\n",
    "9. Index of accessibility to radial highways.\n",
    "\n",
    "10. Full-value property-tax rate per $10,000.\n",
    "\n",
    "11.  Pupil-teacher ratio by town.\n",
    "\n",
    "12.  1000 * (Bk - 0.63) ** 2 where Bk is the proportion of Black people by town.\n",
    "\n",
    "13.  % lower status of the population.\n"
   ]
  },
  {
   "cell_type": "code",
   "execution_count": 177,
   "metadata": {
    "colab": {
     "base_uri": "https://localhost:8080/"
    },
    "id": "2DKZJfIFxh6m",
    "outputId": "5aebd914-5899-4216-c8de-824191b349cf"
   },
   "outputs": [
    {
     "data": {
      "text/plain": [
       "array([15.2, 42.3, 50. , 21.1, 17.7, 18.5, 11.3, 15.6, 15.6, 14.4, 12.1,\n",
       "       17.9, 23.1, 19.9, 15.7,  8.8, 50. , 22.5, 24.1, 27.5, 10.9, 30.8,\n",
       "       32.9, 24. , 18.5, 13.3, 22.9, 34.7, 16.6, 17.5, 22.3, 16.1, 14.9,\n",
       "       23.1, 34.9, 25. , 13.9, 13.1, 20.4, 20. , 15.2, 24.7, 22.2, 16.7,\n",
       "       12.7, 15.6, 18.4, 21. , 30.1, 15.1, 18.7,  9.6, 31.5, 24.8, 19.1,\n",
       "       22. , 14.5, 11. , 32. , 29.4, 20.3, 24.4, 14.6, 19.5, 14.1, 14.3,\n",
       "       15.6, 10.5,  6.3, 19.3, 19.3, 13.4, 36.4, 17.8, 13.5, 16.5,  8.3,\n",
       "       14.3, 16. , 13.4, 28.6, 43.5, 20.2, 22. , 23. , 20.7, 12.5, 48.5,\n",
       "       14.6, 13.4, 23.7, 50. , 21.7, 39.8, 38.7, 22.2, 34.9, 22.5, 31.1,\n",
       "       28.7, 46. , 41.7, 21. , 26.6, 15. , 24.4, 13.3, 21.2, 11.7, 21.7,\n",
       "       19.4, 50. , 22.8, 19.7, 24.7, 36.2, 14.2, 18.9, 18.3, 20.6, 24.6,\n",
       "       18.2,  8.7, 44. , 10.4, 13.2, 21.2, 37. , 30.7, 22.9, 20. , 19.3,\n",
       "       31.7, 32. , 23.1, 18.8, 10.9, 50. , 19.6,  5. , 14.4, 19.8, 13.8,\n",
       "       19.6, 23.9, 24.5, 25. , 19.9, 17.2, 24.6, 13.5, 26.6, 21.4, 11.9,\n",
       "       22.6, 19.6,  8.5, 23.7, 23.1, 22.4, 20.5, 23.6, 18.4, 35.2, 23.1,\n",
       "       27.9, 20.6, 23.7, 28. , 13.6, 27.1, 23.6, 20.6, 18.2, 21.7, 17.1,\n",
       "        8.4, 25.3, 13.8, 22.2, 18.4, 20.7, 31.6, 30.5, 20.3,  8.8, 19.2,\n",
       "       19.4, 23.1, 23. , 14.8, 48.8, 22.6, 33.4, 21.1, 13.6, 32.2, 13.1,\n",
       "       23.4, 18.9, 23.9, 11.8, 23.3, 22.8, 19.6, 16.7, 13.4, 22.2, 20.4,\n",
       "       21.8, 26.4, 14.9, 24.1, 23.8, 12.3, 29.1, 21. , 19.5, 23.3, 23.8,\n",
       "       17.8, 11.5, 21.7, 19.9, 25. , 33.4, 28.5, 21.4, 24.3, 27.5, 33.1,\n",
       "       16.2, 23.3, 48.3, 22.9, 22.8, 13.1, 12.7, 22.6, 15. , 15.3, 10.5,\n",
       "       24. , 18.5, 21.7, 19.5, 33.2, 23.2,  5. , 19.1, 12.7, 22.3, 10.2,\n",
       "       13.9, 16.3, 17. , 20.1, 29.9, 17.2, 37.3, 45.4, 17.8, 23.2, 29. ,\n",
       "       22. , 18. , 17.4, 34.6, 20.1, 25. , 15.6, 24.8, 28.2, 21.2, 21.4,\n",
       "       23.8, 31. , 26.2, 17.4, 37.9, 17.5, 20. ,  8.3, 23.9,  8.4, 13.8,\n",
       "        7.2, 11.7, 17.1, 21.6, 50. , 16.1, 20.4, 20.6, 21.4, 20.6, 36.5,\n",
       "        8.5, 24.8, 10.8, 21.9, 17.3, 18.9, 36.2, 14.9, 18.2, 33.3, 21.8,\n",
       "       19.7, 31.6, 24.8, 19.4, 22.8,  7.5, 44.8, 16.8, 18.7, 50. , 50. ,\n",
       "       19.5, 20.1, 50. , 17.2, 20.8, 19.3, 41.3, 20.4, 20.5, 13.8, 16.5,\n",
       "       23.9, 20.6, 31.5, 23.3, 16.8, 14. , 33.8, 36.1, 12.8, 18.3, 18.7,\n",
       "       19.1, 29. , 30.1, 50. , 50. , 22. , 11.9, 37.6, 50. , 22.7, 20.8,\n",
       "       23.5, 27.9, 50. , 19.3, 23.9, 22.6, 15.2, 21.7, 19.2, 43.8, 20.3,\n",
       "       33.2, 19.9, 22.5, 32.7, 22. , 17.1, 19. , 15. , 16.1, 25.1, 23.7,\n",
       "       28.7, 37.2, 22.6, 16.4, 25. , 29.8, 22.1, 17.4, 18.1, 30.3, 17.5,\n",
       "       24.7, 12.6, 26.5, 28.7, 13.3, 10.4, 24.4, 23. , 20. , 17.8,  7. ,\n",
       "       11.8, 24.4, 13.8, 19.4, 25.2, 19.4, 19.4, 29.1])"
      ]
     },
     "execution_count": 177,
     "metadata": {},
     "output_type": "execute_result"
    }
   ],
   "source": [
    "train_targets"
   ]
  },
  {
   "cell_type": "markdown",
   "metadata": {
    "id": "mRV06OTNxh6m"
   },
   "source": [
    "### Preparing the data"
   ]
  },
  {
   "cell_type": "markdown",
   "metadata": {
    "id": "NUDEXKrnxh6m"
   },
   "source": [
    "#### Normalizing the data"
   ]
  },
  {
   "cell_type": "code",
   "execution_count": 178,
   "metadata": {
    "id": "xTNRwpHZxh6m"
   },
   "outputs": [],
   "source": [
    "mean = train_data.mean(axis=0)\n",
    "train_data -= mean\n",
    "std = train_data.std(axis=0)\n",
    "train_data /= std\n",
    "test_data -= mean\n",
    "test_data /= std"
   ]
  },
  {
   "cell_type": "markdown",
   "metadata": {},
   "source": [
    "pg(79)Note that the quantities that we use for normalizing the test data have been computed\n",
    "using the training data. We should never use in our workflow any quantity computed on\n",
    "the test data, even for something as simple as data normalization"
   ]
  },
  {
   "cell_type": "markdown",
   "metadata": {
    "id": "Ak5QuOrRxh6m"
   },
   "source": [
    "### Building your model"
   ]
  },
  {
   "cell_type": "markdown",
   "metadata": {
    "id": "5_LQDquRxh6m"
   },
   "source": [
    "#### Model definition"
   ]
  },
  {
   "cell_type": "code",
   "execution_count": 179,
   "metadata": {
    "id": "EH4VsMNyxh6m"
   },
   "outputs": [],
   "source": [
    "def build_model():\n",
    "    model = keras.Sequential([\n",
    "        layers.Dense(64, activation=\"relu\"),\n",
    "        layers.Dense(64, activation=\"relu\"),\n",
    "        layers.Dense(1)\n",
    "    ])\n",
    "    model.compile(optimizer=\"rmsprop\", loss=\"mse\", metrics=[\"mae\"])\n",
    "    return model"
   ]
  },
  {
   "cell_type": "markdown",
   "metadata": {
    "id": "8_Y_2x1bxh6m"
   },
   "source": [
    "### Validating your approach using K-fold validation"
   ]
  },
  {
   "cell_type": "code",
   "execution_count": 180,
   "metadata": {
    "colab": {
     "base_uri": "https://localhost:8080/"
    },
    "id": "lP3j1z76xh6m",
    "outputId": "f795d9f2-5f06-40bd-c67a-88fe84278fb8"
   },
   "outputs": [
    {
     "name": "stdout",
     "output_type": "stream",
     "text": [
      "Processing fold #0\n",
      "Processing fold #1\n",
      "Processing fold #2\n",
      "Processing fold #3\n"
     ]
    }
   ],
   "source": [
    "k = 4\n",
    "num_val_samples = len(train_data) // k\n",
    "num_epochs = 100\n",
    "all_scores = []\n",
    "for i in range(k):\n",
    "    print(f\"Processing fold #{i}\")\n",
    "    val_data = train_data[i * num_val_samples: (i + 1) * num_val_samples]\n",
    "    val_targets = train_targets[i * num_val_samples: (i + 1) * num_val_samples]\n",
    "    partial_train_data = np.concatenate(\n",
    "        [train_data[:i * num_val_samples],\n",
    "         train_data[(i + 1) * num_val_samples:]],\n",
    "        axis=0)\n",
    "    partial_train_targets = np.concatenate(\n",
    "        [train_targets[:i * num_val_samples],\n",
    "         train_targets[(i + 1) * num_val_samples:]],\n",
    "        axis=0)\n",
    "    model = build_model()\n",
    "    model.fit(partial_train_data, partial_train_targets,\n",
    "              epochs=num_epochs, batch_size=16, verbose=0)\n",
    "    val_mse, val_mae = model.evaluate(val_data, val_targets, verbose=0)\n",
    "    all_scores.append(val_mae)"
   ]
  },
  {
   "cell_type": "code",
   "execution_count": 181,
   "metadata": {
    "colab": {
     "base_uri": "https://localhost:8080/"
    },
    "id": "nj-3RiYaxh6m",
    "outputId": "2bce5cda-5ae9-4a3f-e9ad-9502cbc73f6a"
   },
   "outputs": [
    {
     "data": {
      "text/plain": [
       "[1.8952926397323608, 2.196486473083496, 2.4960131645202637, 2.4728550910949707]"
      ]
     },
     "execution_count": 181,
     "metadata": {},
     "output_type": "execute_result"
    }
   ],
   "source": [
    "all_scores"
   ]
  },
  {
   "cell_type": "code",
   "execution_count": 182,
   "metadata": {
    "colab": {
     "base_uri": "https://localhost:8080/"
    },
    "id": "TbaipzZZxh6m",
    "outputId": "565ec5bd-c774-44b3-c1ec-6b74cecda7ca"
   },
   "outputs": [
    {
     "data": {
      "text/plain": [
       "2.265161842107773"
      ]
     },
     "execution_count": 182,
     "metadata": {},
     "output_type": "execute_result"
    }
   ],
   "source": [
    "np.mean(all_scores)"
   ]
  },
  {
   "cell_type": "markdown",
   "metadata": {
    "id": "AvBk8lMRxh6m"
   },
   "source": [
    "#### Saving the validation logs at each fold"
   ]
  },
  {
   "cell_type": "code",
   "execution_count": 186,
   "metadata": {
    "colab": {
     "base_uri": "https://localhost:8080/"
    },
    "id": "-VaF--Ztxh6m",
    "outputId": "68e2b11a-aa9b-4ba0-f94d-686084863c85"
   },
   "outputs": [
    {
     "name": "stdout",
     "output_type": "stream",
     "text": [
      "Processing fold #0\n",
      "Processing fold #1\n",
      "Processing fold #2\n",
      "Processing fold #3\n"
     ]
    }
   ],
   "source": [
    "num_epochs = 500\n",
    "all_mae_histories = []\n",
    "for i in range(k):\n",
    "    print(f\"Processing fold #{i}\")\n",
    "    val_data = train_data[i * num_val_samples: (i + 1) * num_val_samples]\n",
    "    val_targets = train_targets[i * num_val_samples: (i + 1) * num_val_samples]\n",
    "    partial_train_data = np.concatenate(\n",
    "        [train_data[:i * num_val_samples],\n",
    "         train_data[(i + 1) * num_val_samples:]],\n",
    "        axis=0)\n",
    "    partial_train_targets = np.concatenate(\n",
    "        [train_targets[:i * num_val_samples],\n",
    "         train_targets[(i + 1) * num_val_samples:]],\n",
    "        axis=0)\n",
    "    model = build_model()\n",
    "    history = model.fit(partial_train_data, partial_train_targets,\n",
    "                        validation_data=(val_data, val_targets),\n",
    "                        epochs=num_epochs, batch_size=16, verbose=0)\n",
    "    mae_history = history.history[\"val_mae\"]\n",
    "    all_mae_histories.append(mae_history)"
   ]
  },
  {
   "cell_type": "markdown",
   "metadata": {
    "id": "qxhUlr1bxh6m"
   },
   "source": [
    "#### Building the history of successive mean K-fold validation scores"
   ]
  },
  {
   "cell_type": "code",
   "execution_count": 187,
   "metadata": {
    "id": "scyLRwsnxh6m"
   },
   "outputs": [],
   "source": [
    "average_mae_history = [\n",
    "    np.mean([x[i] for x in all_mae_histories]) for i in range(num_epochs)]"
   ]
  },
  {
   "cell_type": "markdown",
   "metadata": {
    "id": "tL1rhvLNxh6m"
   },
   "source": [
    "#### Plotting validation scores"
   ]
  },
  {
   "cell_type": "code",
   "execution_count": 188,
   "metadata": {
    "colab": {
     "base_uri": "https://localhost:8080/",
     "height": 283
    },
    "id": "_AtGOs8kxh6n",
    "outputId": "73097eef-a69f-4d6e-b899-378333131710"
   },
   "outputs": [
    {
     "data": {
      "image/png": "[encoded data removed]",
      "text/plain": [
       "<Figure size 432x288 with 1 Axes>"
      ]
     },
     "metadata": {
      "needs_background": "light"
     },
     "output_type": "display_data"
    }
   ],
   "source": [
    "plt.plot(range(1, len(average_mae_history) + 1), average_mae_history)\n",
    "plt.xlabel(\"Epochs\")\n",
    "plt.ylabel(\"Validation MAE\")\n",
    "plt.show()"
   ]
  },
  {
   "cell_type": "markdown",
   "metadata": {
    "id": "88VzqTeDxh6n"
   },
   "source": [
    "#### Plotting validation scores, excluding the first 10 data points"
   ]
  },
  {
   "cell_type": "markdown",
   "metadata": {
    "colab": {
     "base_uri": "https://localhost:8080/",
     "height": 279
    },
    "id": "nJcHbmEjxh6n",
    "outputId": "59270ad8-0c43-4d57-84ec-ccb8c19dadea"
   },
   "source": [
    "truncated_mae_history = average_mae_history[10:]\n",
    "plt.plot(range(1, len(truncated_mae_history) + 1), truncated_mae_history)\n",
    "plt.xlabel(\"Epochs\")\n",
    "plt.ylabel(\"Validation MAE\")\n",
    "plt.show()"
   ]
  },
  {
   "cell_type": "markdown",
   "metadata": {
    "id": "64vzjBATxh6n"
   },
   "source": [
    "### Training the final model"
   ]
  },
  {
   "cell_type": "code",
   "execution_count": 190,
   "metadata": {
    "colab": {
     "base_uri": "https://localhost:8080/"
    },
    "id": "0VDrjPVZxh6n",
    "outputId": "b8fedf5d-0e59-4afd-836a-d5e0432460b2"
   },
   "outputs": [
    {
     "name": "stdout",
     "output_type": "stream",
     "text": [
      "4/4 [==============================] - 0s 1ms/step - loss: 14.2533 - mae: 2.5295\n"
     ]
    }
   ],
   "source": [
    "model = build_model()\n",
    "model.fit(train_data, train_targets,\n",
    "          epochs=130, batch_size=16, verbose=0)\n",
    "test_mse_score, test_mae_score = model.evaluate(test_data, test_targets)"
   ]
  },
  {
   "cell_type": "code",
   "execution_count": 191,
   "metadata": {
    "colab": {
     "base_uri": "https://localhost:8080/"
    },
    "id": "3hZCLbhbxh6n",
    "outputId": "39885db8-e533-4044-86a9-69ec84a65870"
   },
   "outputs": [
    {
     "data": {
      "text/plain": [
       "2.5294556617736816"
      ]
     },
     "execution_count": 191,
     "metadata": {},
     "output_type": "execute_result"
    }
   ],
   "source": [
    "test_mae_score"
   ]
  },
  {
   "cell_type": "markdown",
   "metadata": {
    "id": "DowlbY9Sxh6n"
   },
   "source": [
    "### Generating predictions on new data"
   ]
  },
  {
   "cell_type": "code",
   "execution_count": 192,
   "metadata": {
    "colab": {
     "base_uri": "https://localhost:8080/"
    },
    "id": "qSVLepPHxh6n",
    "outputId": "5bb587b0-ed34-47b6-e8de-50ba6154c241"
   },
   "outputs": [
    {
     "data": {
      "text/plain": [
       "array([8.386055], dtype=float32)"
      ]
     },
     "execution_count": 192,
     "metadata": {},
     "output_type": "execute_result"
    }
   ],
   "source": [
    "predictions = model.predict(test_data)\n",
    "predictions[0]"
   ]
  },
  {
   "cell_type": "markdown",
   "metadata": {
    "id": "cNxMzaMt2kp7"
   },
   "source": [
    "### (OPTIONAL) TODO 6\n",
    "\n",
    "Write code to try different combinations of:\n",
    "- K for K-fold validation\n",
    "- number of epochs\n",
    "- number of units per hidden layer\n",
    "- number of hidden layers \n",
    "\n",
    "Please refrain from using better architectures and \"advanced\" techniques to curb overfitting (e.g., dropout, batch normalization, weight regularization, etc.)"
   ]
  },
  {
   "cell_type": "code",
   "execution_count": 205,
   "metadata": {},
   "outputs": [
    {
     "name": "stdout",
     "output_type": "stream",
     "text": [
      "(404, 13)\n",
      "(102, 13)\n",
      "[15.2 42.3 50.  21.1 17.7 18.5 11.3 15.6 15.6 14.4 12.1 17.9 23.1 19.9\n",
      " 15.7  8.8 50.  22.5 24.1 27.5 10.9 30.8 32.9 24.  18.5 13.3 22.9 34.7\n",
      " 16.6 17.5 22.3 16.1 14.9 23.1 34.9 25.  13.9 13.1 20.4 20.  15.2 24.7\n",
      " 22.2 16.7 12.7 15.6 18.4 21.  30.1 15.1 18.7  9.6 31.5 24.8 19.1 22.\n",
      " 14.5 11.  32.  29.4 20.3 24.4 14.6 19.5 14.1 14.3 15.6 10.5  6.3 19.3\n",
      " 19.3 13.4 36.4 17.8 13.5 16.5  8.3 14.3 16.  13.4 28.6 43.5 20.2 22.\n",
      " 23.  20.7 12.5 48.5 14.6 13.4 23.7 50.  21.7 39.8 38.7 22.2 34.9 22.5\n",
      " 31.1 28.7 46.  41.7 21.  26.6 15.  24.4 13.3 21.2 11.7 21.7 19.4 50.\n",
      " 22.8 19.7 24.7 36.2 14.2 18.9 18.3 20.6 24.6 18.2  8.7 44.  10.4 13.2\n",
      " 21.2 37.  30.7 22.9 20.  19.3 31.7 32.  23.1 18.8 10.9 50.  19.6  5.\n",
      " 14.4 19.8 13.8 19.6 23.9 24.5 25.  19.9 17.2 24.6 13.5 26.6 21.4 11.9\n",
      " 22.6 19.6  8.5 23.7 23.1 22.4 20.5 23.6 18.4 35.2 23.1 27.9 20.6 23.7\n",
      " 28.  13.6 27.1 23.6 20.6 18.2 21.7 17.1  8.4 25.3 13.8 22.2 18.4 20.7\n",
      " 31.6 30.5 20.3  8.8 19.2 19.4 23.1 23.  14.8 48.8 22.6 33.4 21.1 13.6\n",
      " 32.2 13.1 23.4 18.9 23.9 11.8 23.3 22.8 19.6 16.7 13.4 22.2 20.4 21.8\n",
      " 26.4 14.9 24.1 23.8 12.3 29.1 21.  19.5 23.3 23.8 17.8 11.5 21.7 19.9\n",
      " 25.  33.4 28.5 21.4 24.3 27.5 33.1 16.2 23.3 48.3 22.9 22.8 13.1 12.7\n",
      " 22.6 15.  15.3 10.5 24.  18.5 21.7 19.5 33.2 23.2  5.  19.1 12.7 22.3\n",
      " 10.2 13.9 16.3 17.  20.1 29.9 17.2 37.3 45.4 17.8 23.2 29.  22.  18.\n",
      " 17.4 34.6 20.1 25.  15.6 24.8 28.2 21.2 21.4 23.8 31.  26.2 17.4 37.9\n",
      " 17.5 20.   8.3 23.9  8.4 13.8  7.2 11.7 17.1 21.6 50.  16.1 20.4 20.6\n",
      " 21.4 20.6 36.5  8.5 24.8 10.8 21.9 17.3 18.9 36.2 14.9 18.2 33.3 21.8\n",
      " 19.7 31.6 24.8 19.4 22.8  7.5 44.8 16.8 18.7 50.  50.  19.5 20.1 50.\n",
      " 17.2 20.8 19.3 41.3 20.4 20.5 13.8 16.5 23.9 20.6 31.5 23.3 16.8 14.\n",
      " 33.8 36.1 12.8 18.3 18.7 19.1 29.  30.1 50.  50.  22.  11.9 37.6 50.\n",
      " 22.7 20.8 23.5 27.9 50.  19.3 23.9 22.6 15.2 21.7 19.2 43.8 20.3 33.2\n",
      " 19.9 22.5 32.7 22.  17.1 19.  15.  16.1 25.1 23.7 28.7 37.2 22.6 16.4\n",
      " 25.  29.8 22.1 17.4 18.1 30.3 17.5 24.7 12.6 26.5 28.7 13.3 10.4 24.4\n",
      " 23.  20.  17.8  7.  11.8 24.4 13.8 19.4 25.2 19.4 19.4 29.1]\n",
      "Processing fold #0\n",
      "Processing fold #1\n",
      "Processing fold #2\n",
      "Processing fold #3\n",
      "[19.80219078063965, 19.954565048217773, 19.37013816833496, 22.226055145263672]\n",
      "20.338237285614014\n",
      "Processing fold #0\n",
      "Processing fold #1\n"
     ]
    },
    {
     "data": {
      "image/png": "[encoded data removed]",
      "text/plain": [
       "<Figure size 432x288 with 1 Axes>"
      ]
     },
     "metadata": {
      "needs_background": "light"
     },
     "output_type": "display_data"
    },
    {
     "data": {
      "image/png": "[encoded data removed]",
      "text/plain": [
       "<Figure size 432x288 with 1 Axes>"
      ]
     },
     "metadata": {
      "needs_background": "light"
     },
     "output_type": "display_data"
    },
    {
     "name": "stdout",
     "output_type": "stream",
     "text": [
      "4/4 [==============================] - 0s 956us/step - loss: 342.8370 - mae: 16.1387\n",
      "16.138689041137695\n"
     ]
    },
    {
     "data": {
      "text/plain": [
       "<__main__.Todo6_A at 0x1d6bac14040>"
      ]
     },
     "execution_count": 205,
     "metadata": {},
     "output_type": "execute_result"
    }
   ],
   "source": [
    "class Todo6_A:\n",
    "    def __init__(self):\n",
    "        self.build()\n",
    "\n",
    "    def build(self):\n",
    "        self.load_data()\n",
    "        self.normalize_data()\n",
    "        self.compile_model()\n",
    "        self.validation_log_each_fold()\n",
    "        self.plot_A()\n",
    "        self.plot_B()\n",
    "        self.train_final_model()\n",
    "\n",
    "    def load_data(self):\n",
    "        from tensorflow.keras.datasets import boston_housing\n",
    "        (self.train_data, self.train_targets), (self.test_data, self.test_targets) = boston_housing.load_data()\n",
    "        print(self.train_data.shape)\n",
    "        print(self.test_data.shape)\n",
    "        print(self.train_targets)\n",
    "\n",
    "    def normalize_data(self):\n",
    "        self.mean = self.train_data.mean(axis=0)\n",
    "        self.train_data -= self.mean\n",
    "        self.std = self.train_data.std(axis=0)\n",
    "        self.train_data /= self.std\n",
    "        self.test_data -= self.mean\n",
    "        self.test_data /= self.std\n",
    "\n",
    "    def build_model(self):\n",
    "        self.model = keras.Sequential([\n",
    "            layers.Dense(64, activation=\"relu\"),\n",
    "            layers.Dense(128, activation=\"relu\"),\n",
    "            layers.Dense(128, activation=\"softmax\"),\n",
    "            layers.Dense(128, activation=\"softmax\"),\n",
    "            layers.Dense(1)\n",
    "        ])\n",
    "        self.model.compile(optimizer=\"rmsprop\", loss=\"mse\", metrics=[\"mae\"])\n",
    "        return self.model\n",
    "\n",
    "    def compile_model(self):\n",
    "        self.k = 2\n",
    "        self.num_val_samples = len(self.train_data) // k\n",
    "        self.num_epochs = 50\n",
    "        self.all_scores = []\n",
    "        for i in range(k):\n",
    "            print(f\"Processing fold #{i}\")\n",
    "            val_data = self.train_data[i * self.num_val_samples: (i + 1) * self.num_val_samples]\n",
    "            val_targets = self.train_targets[i * self.num_val_samples: (i + 1) * self.num_val_samples]\n",
    "            self.partial_train_data = np.concatenate(\n",
    "                [self.train_data[:i * self.num_val_samples],\n",
    "                 self.train_data[(i + 1) * self.num_val_samples:]],\n",
    "                axis=0)\n",
    "            self.partial_train_targets = np.concatenate(\n",
    "                [self.train_targets[:i * self.num_val_samples],\n",
    "                 self.train_targets[(i + 1) * self.num_val_samples:]],\n",
    "                axis=0)\n",
    "            model = self.build_model()\n",
    "            model.fit(self.partial_train_data, self.partial_train_targets,\n",
    "                      epochs=self.num_epochs, batch_size=16, verbose=0)\n",
    "            self.val_mse, self.val_mae = model.evaluate(val_data, val_targets, verbose=0)\n",
    "            self.all_scores.append(self.val_mae)\n",
    "\n",
    "    def validation_log_each_fold(self):\n",
    "        print(self.all_scores)\n",
    "        print(np.mean(self.all_scores))\n",
    "        self.num_epochs = 500\n",
    "        self.all_mae_histories = []\n",
    "        for i in range(self.k):\n",
    "            print(f\"Processing fold #{i}\")\n",
    "            self.val_data = self.train_data[i * self.num_val_samples: (i + 1) * self.num_val_samples]\n",
    "            self.val_targets = self.train_targets[i * self.num_val_samples: (i + 1) * self.num_val_samples]\n",
    "            self.partial_train_data = np.concatenate(\n",
    "                [self.train_data[:i * self.num_val_samples],\n",
    "                 self.train_data[(i + 1) * self.num_val_samples:]],\n",
    "                axis=0)\n",
    "            self.partial_train_targets = np.concatenate(\n",
    "                [self.train_targets[:i * self.num_val_samples],\n",
    "                 self.train_targets[(i + 1) * self.num_val_samples:]],\n",
    "                axis=0)\n",
    "            model = self.build_model()\n",
    "            history = model.fit(self.partial_train_data, self.partial_train_targets,\n",
    "                                validation_data=(self.val_data, self.val_targets),\n",
    "                                epochs=self.num_epochs, batch_size=16, verbose=0)\n",
    "            self.mae_history = history.history[\"val_mae\"]\n",
    "            self.all_mae_histories.append(self.mae_history)\n",
    "        self.average_mae_history = [\n",
    "            np.mean([x[i] for x in self.all_mae_histories]) for i in range(self.num_epochs)]\n",
    "\n",
    "\n",
    "    def plot_A(self):\n",
    "        plt.plot(range(1, len(self.average_mae_history) + 1), self.average_mae_history)\n",
    "        plt.xlabel(\"Epochs\")\n",
    "        plt.ylabel(\"Validation MAE\")\n",
    "        plt.show()\n",
    "    def plot_B(self):\n",
    "        self.truncated_mae_history = self.average_mae_history[10:]\n",
    "        plt.plot(range(1, len(self.truncated_mae_history) + 1), self.truncated_mae_history)\n",
    "        plt.xlabel(\"Epochs\")\n",
    "        plt.ylabel(\"Validation MAE\")\n",
    "        plt.show()\n",
    "\n",
    "    def train_final_model(self):\n",
    "        model = self.build_model()\n",
    "        model.fit(self.train_data, self.train_targets,\n",
    "                  epochs=130, batch_size=16, verbose=0)\n",
    "        self.test_mse_score, self.test_mae_score = model.evaluate(self.test_data, self.test_targets)\n",
    "        print(self.test_mae_score)\n",
    "        predictions = model.predict(self.test_data)\n",
    "        predictions[0]\n",
    "Todo6_A()"
   ]
  },
  {
   "cell_type": "code",
   "execution_count": 202,
   "metadata": {},
   "outputs": [
    {
     "name": "stdout",
     "output_type": "stream",
     "text": [
      "(404, 13)\n",
      "(102, 13)\n",
      "[15.2 42.3 50.  21.1 17.7 18.5 11.3 15.6 15.6 14.4 12.1 17.9 23.1 19.9\n",
      " 15.7  8.8 50.  22.5 24.1 27.5 10.9 30.8 32.9 24.  18.5 13.3 22.9 34.7\n",
      " 16.6 17.5 22.3 16.1 14.9 23.1 34.9 25.  13.9 13.1 20.4 20.  15.2 24.7\n",
      " 22.2 16.7 12.7 15.6 18.4 21.  30.1 15.1 18.7  9.6 31.5 24.8 19.1 22.\n",
      " 14.5 11.  32.  29.4 20.3 24.4 14.6 19.5 14.1 14.3 15.6 10.5  6.3 19.3\n",
      " 19.3 13.4 36.4 17.8 13.5 16.5  8.3 14.3 16.  13.4 28.6 43.5 20.2 22.\n",
      " 23.  20.7 12.5 48.5 14.6 13.4 23.7 50.  21.7 39.8 38.7 22.2 34.9 22.5\n",
      " 31.1 28.7 46.  41.7 21.  26.6 15.  24.4 13.3 21.2 11.7 21.7 19.4 50.\n",
      " 22.8 19.7 24.7 36.2 14.2 18.9 18.3 20.6 24.6 18.2  8.7 44.  10.4 13.2\n",
      " 21.2 37.  30.7 22.9 20.  19.3 31.7 32.  23.1 18.8 10.9 50.  19.6  5.\n",
      " 14.4 19.8 13.8 19.6 23.9 24.5 25.  19.9 17.2 24.6 13.5 26.6 21.4 11.9\n",
      " 22.6 19.6  8.5 23.7 23.1 22.4 20.5 23.6 18.4 35.2 23.1 27.9 20.6 23.7\n",
      " 28.  13.6 27.1 23.6 20.6 18.2 21.7 17.1  8.4 25.3 13.8 22.2 18.4 20.7\n",
      " 31.6 30.5 20.3  8.8 19.2 19.4 23.1 23.  14.8 48.8 22.6 33.4 21.1 13.6\n",
      " 32.2 13.1 23.4 18.9 23.9 11.8 23.3 22.8 19.6 16.7 13.4 22.2 20.4 21.8\n",
      " 26.4 14.9 24.1 23.8 12.3 29.1 21.  19.5 23.3 23.8 17.8 11.5 21.7 19.9\n",
      " 25.  33.4 28.5 21.4 24.3 27.5 33.1 16.2 23.3 48.3 22.9 22.8 13.1 12.7\n",
      " 22.6 15.  15.3 10.5 24.  18.5 21.7 19.5 33.2 23.2  5.  19.1 12.7 22.3\n",
      " 10.2 13.9 16.3 17.  20.1 29.9 17.2 37.3 45.4 17.8 23.2 29.  22.  18.\n",
      " 17.4 34.6 20.1 25.  15.6 24.8 28.2 21.2 21.4 23.8 31.  26.2 17.4 37.9\n",
      " 17.5 20.   8.3 23.9  8.4 13.8  7.2 11.7 17.1 21.6 50.  16.1 20.4 20.6\n",
      " 21.4 20.6 36.5  8.5 24.8 10.8 21.9 17.3 18.9 36.2 14.9 18.2 33.3 21.8\n",
      " 19.7 31.6 24.8 19.4 22.8  7.5 44.8 16.8 18.7 50.  50.  19.5 20.1 50.\n",
      " 17.2 20.8 19.3 41.3 20.4 20.5 13.8 16.5 23.9 20.6 31.5 23.3 16.8 14.\n",
      " 33.8 36.1 12.8 18.3 18.7 19.1 29.  30.1 50.  50.  22.  11.9 37.6 50.\n",
      " 22.7 20.8 23.5 27.9 50.  19.3 23.9 22.6 15.2 21.7 19.2 43.8 20.3 33.2\n",
      " 19.9 22.5 32.7 22.  17.1 19.  15.  16.1 25.1 23.7 28.7 37.2 22.6 16.4\n",
      " 25.  29.8 22.1 17.4 18.1 30.3 17.5 24.7 12.6 26.5 28.7 13.3 10.4 24.4\n",
      " 23.  20.  17.8  7.  11.8 24.4 13.8 19.4 25.2 19.4 19.4 29.1]\n",
      "Processing fold #0\n",
      "Processing fold #1\n",
      "Processing fold #2\n",
      "Processing fold #3\n",
      "[8.673583030700684, 10.013601303100586, 7.213259220123291, 7.090692043304443]\n",
      "8.247783899307251\n",
      "Processing fold #0\n",
      "Processing fold #1\n",
      "Processing fold #2\n",
      "Processing fold #3\n"
     ]
    },
    {
     "data": {
      "image/png": "[encoded data removed]",
      "text/plain": [
       "<Figure size 432x288 with 1 Axes>"
      ]
     },
     "metadata": {
      "needs_background": "light"
     },
     "output_type": "display_data"
    },
    {
     "data": {
      "image/png": "[encoded data removed]",
      "text/plain": [
       "<Figure size 432x288 with 1 Axes>"
      ]
     },
     "metadata": {
      "needs_background": "light"
     },
     "output_type": "display_data"
    },
    {
     "name": "stdout",
     "output_type": "stream",
     "text": [
      "4/4 [==============================] - 0s 665us/step - loss: 162.3229 - mae: 7.6304\n",
      "7.630380153656006\n"
     ]
    },
    {
     "data": {
      "text/plain": [
       "<__main__.Todo6_B at 0x1d7459598e0>"
      ]
     },
     "execution_count": 202,
     "metadata": {},
     "output_type": "execute_result"
    }
   ],
   "source": [
    "class Todo6_B:\n",
    "    def __init__(self):\n",
    "        self.build()\n",
    "\n",
    "    def build(self):\n",
    "        self.load_data()\n",
    "        self.normalize_data()\n",
    "        self.compile_model()\n",
    "        self.validation_log_each_fold()\n",
    "        self.plot_A()\n",
    "        self.plot_B()\n",
    "        self.train_final_model()\n",
    "\n",
    "    def load_data(self):\n",
    "        from tensorflow.keras.datasets import boston_housing\n",
    "        (self.train_data, self.train_targets), (self.test_data, self.test_targets) = boston_housing.load_data()\n",
    "        print(self.train_data.shape)\n",
    "        print(self.test_data.shape)\n",
    "        print(self.train_targets)\n",
    "\n",
    "    def normalize_data(self):\n",
    "        self.mean = self.train_data.mean(axis=0)\n",
    "        self.train_data -= self.mean\n",
    "        self.std = self.train_data.std(axis=0)\n",
    "        self.train_data /= self.std\n",
    "        self.test_data -= self.mean\n",
    "        self.test_data /= self.std\n",
    "\n",
    "    def build_model(self):\n",
    "        self.model = keras.Sequential([\n",
    "            layers.Dense(64, activation=\"relu\"),\n",
    "            layers.Dense(64, activation=\"relu\"),\n",
    "            layers.Dense(1)\n",
    "        ])\n",
    "        self.model.add(Flatten())\n",
    "        self.model.add(Dense(256, activation='relu'))\n",
    "        self.model.add(Dense(128, activation='relu'))\n",
    "        self.model.compile(optimizer=\"rmsprop\", loss=\"mse\", metrics=[\"mae\"])\n",
    "        return self.model\n",
    "\n",
    "    def compile_model(self):\n",
    "        self.k = 4\n",
    "        self.num_val_samples = len(self.train_data) // k\n",
    "        self.num_epochs = 100\n",
    "        self.all_scores = []\n",
    "        for i in range(k):\n",
    "            print(f\"Processing fold #{i}\")\n",
    "            val_data = self.train_data[i * self.num_val_samples: (i + 1) * self.num_val_samples]\n",
    "            val_targets = self.train_targets[i * self.num_val_samples: (i + 1) * self.num_val_samples]\n",
    "            self.partial_train_data = np.concatenate(\n",
    "                [self.train_data[:i * self.num_val_samples],\n",
    "                 self.train_data[(i + 1) * self.num_val_samples:]],\n",
    "                axis=0)\n",
    "            self.partial_train_targets = np.concatenate(\n",
    "                [self.train_targets[:i * self.num_val_samples],\n",
    "                 self.train_targets[(i + 1) * self.num_val_samples:]],\n",
    "                axis=0)\n",
    "            model = self.build_model()\n",
    "            model.fit(self.partial_train_data, self.partial_train_targets,\n",
    "                      epochs=self.num_epochs, batch_size=16, verbose=0)\n",
    "            self.val_mse, self.val_mae = model.evaluate(val_data, val_targets, verbose=0)\n",
    "            self.all_scores.append(self.val_mae)\n",
    "\n",
    "    def validation_log_each_fold(self):\n",
    "        print(self.all_scores)\n",
    "        print(np.mean(self.all_scores))\n",
    "        self.num_epochs = 500\n",
    "        self.all_mae_histories = []\n",
    "        for i in range(self.k):\n",
    "            print(f\"Processing fold #{i}\")\n",
    "            self.val_data = self.train_data[i * self.num_val_samples: (i + 1) * self.num_val_samples]\n",
    "            self.val_targets = self.train_targets[i * self.num_val_samples: (i + 1) * self.num_val_samples]\n",
    "            self.partial_train_data = np.concatenate(\n",
    "                [self.train_data[:i * self.num_val_samples],\n",
    "                 self.train_data[(i + 1) * self.num_val_samples:]],\n",
    "                axis=0)\n",
    "            self.partial_train_targets = np.concatenate(\n",
    "                [self.train_targets[:i * self.num_val_samples],\n",
    "                 self.train_targets[(i + 1) * self.num_val_samples:]],\n",
    "                axis=0)\n",
    "            model = self.build_model()\n",
    "            history = model.fit(self.partial_train_data, self.partial_train_targets,\n",
    "                                validation_data=(self.val_data, self.val_targets),\n",
    "                                epochs=self.num_epochs, batch_size=16, verbose=0)\n",
    "            self.mae_history = history.history[\"val_mae\"]\n",
    "            self.all_mae_histories.append(self.mae_history)\n",
    "        self.average_mae_history = [\n",
    "            np.mean([x[i] for x in self.all_mae_histories]) for i in range(self.num_epochs)]\n",
    "\n",
    "\n",
    "    def plot_A(self):\n",
    "        plt.plot(range(1, len(self.average_mae_history) + 1), self.average_mae_history)\n",
    "        plt.xlabel(\"Epochs\")\n",
    "        plt.ylabel(\"Validation MAE\")\n",
    "        plt.show()\n",
    "    def plot_B(self):\n",
    "        self.truncated_mae_history = self.average_mae_history[10:]\n",
    "        plt.plot(range(1, len(self.truncated_mae_history) + 1), self.truncated_mae_history)\n",
    "        plt.xlabel(\"Epochs\")\n",
    "        plt.ylabel(\"Validation MAE\")\n",
    "        plt.show()\n",
    "\n",
    "    def train_final_model(self):\n",
    "        model = self.build_model()\n",
    "        model.fit(self.train_data, self.train_targets,\n",
    "                  epochs=130, batch_size=16, verbose=0)\n",
    "        self.test_mse_score, self.test_mae_score = model.evaluate(self.test_data, self.test_targets)\n",
    "        print(self.test_mae_score)\n",
    "        predictions = model.predict(self.test_data)\n",
    "        predictions[0]\n",
    "Todo6_B()"
   ]
  },
  {
   "cell_type": "code",
   "execution_count": 204,
   "metadata": {},
   "outputs": [
    {
     "name": "stdout",
     "output_type": "stream",
     "text": [
      "(404, 13)\n",
      "(102, 13)\n",
      "[15.2 42.3 50.  21.1 17.7 18.5 11.3 15.6 15.6 14.4 12.1 17.9 23.1 19.9\n",
      " 15.7  8.8 50.  22.5 24.1 27.5 10.9 30.8 32.9 24.  18.5 13.3 22.9 34.7\n",
      " 16.6 17.5 22.3 16.1 14.9 23.1 34.9 25.  13.9 13.1 20.4 20.  15.2 24.7\n",
      " 22.2 16.7 12.7 15.6 18.4 21.  30.1 15.1 18.7  9.6 31.5 24.8 19.1 22.\n",
      " 14.5 11.  32.  29.4 20.3 24.4 14.6 19.5 14.1 14.3 15.6 10.5  6.3 19.3\n",
      " 19.3 13.4 36.4 17.8 13.5 16.5  8.3 14.3 16.  13.4 28.6 43.5 20.2 22.\n",
      " 23.  20.7 12.5 48.5 14.6 13.4 23.7 50.  21.7 39.8 38.7 22.2 34.9 22.5\n",
      " 31.1 28.7 46.  41.7 21.  26.6 15.  24.4 13.3 21.2 11.7 21.7 19.4 50.\n",
      " 22.8 19.7 24.7 36.2 14.2 18.9 18.3 20.6 24.6 18.2  8.7 44.  10.4 13.2\n",
      " 21.2 37.  30.7 22.9 20.  19.3 31.7 32.  23.1 18.8 10.9 50.  19.6  5.\n",
      " 14.4 19.8 13.8 19.6 23.9 24.5 25.  19.9 17.2 24.6 13.5 26.6 21.4 11.9\n",
      " 22.6 19.6  8.5 23.7 23.1 22.4 20.5 23.6 18.4 35.2 23.1 27.9 20.6 23.7\n",
      " 28.  13.6 27.1 23.6 20.6 18.2 21.7 17.1  8.4 25.3 13.8 22.2 18.4 20.7\n",
      " 31.6 30.5 20.3  8.8 19.2 19.4 23.1 23.  14.8 48.8 22.6 33.4 21.1 13.6\n",
      " 32.2 13.1 23.4 18.9 23.9 11.8 23.3 22.8 19.6 16.7 13.4 22.2 20.4 21.8\n",
      " 26.4 14.9 24.1 23.8 12.3 29.1 21.  19.5 23.3 23.8 17.8 11.5 21.7 19.9\n",
      " 25.  33.4 28.5 21.4 24.3 27.5 33.1 16.2 23.3 48.3 22.9 22.8 13.1 12.7\n",
      " 22.6 15.  15.3 10.5 24.  18.5 21.7 19.5 33.2 23.2  5.  19.1 12.7 22.3\n",
      " 10.2 13.9 16.3 17.  20.1 29.9 17.2 37.3 45.4 17.8 23.2 29.  22.  18.\n",
      " 17.4 34.6 20.1 25.  15.6 24.8 28.2 21.2 21.4 23.8 31.  26.2 17.4 37.9\n",
      " 17.5 20.   8.3 23.9  8.4 13.8  7.2 11.7 17.1 21.6 50.  16.1 20.4 20.6\n",
      " 21.4 20.6 36.5  8.5 24.8 10.8 21.9 17.3 18.9 36.2 14.9 18.2 33.3 21.8\n",
      " 19.7 31.6 24.8 19.4 22.8  7.5 44.8 16.8 18.7 50.  50.  19.5 20.1 50.\n",
      " 17.2 20.8 19.3 41.3 20.4 20.5 13.8 16.5 23.9 20.6 31.5 23.3 16.8 14.\n",
      " 33.8 36.1 12.8 18.3 18.7 19.1 29.  30.1 50.  50.  22.  11.9 37.6 50.\n",
      " 22.7 20.8 23.5 27.9 50.  19.3 23.9 22.6 15.2 21.7 19.2 43.8 20.3 33.2\n",
      " 19.9 22.5 32.7 22.  17.1 19.  15.  16.1 25.1 23.7 28.7 37.2 22.6 16.4\n",
      " 25.  29.8 22.1 17.4 18.1 30.3 17.5 24.7 12.6 26.5 28.7 13.3 10.4 24.4\n",
      " 23.  20.  17.8  7.  11.8 24.4 13.8 19.4 25.2 19.4 19.4 29.1]\n",
      "Processing fold #0\n",
      "Processing fold #1\n",
      "Processing fold #2\n",
      "Processing fold #3\n",
      "[6.6338653564453125, 6.466952800750732, 5.858506202697754, 8.625832557678223]\n",
      "6.896289229393005\n",
      "Processing fold #0\n",
      "Processing fold #1\n"
     ]
    },
    {
     "data": {
      "image/png": "[encoded data removed]",
      "text/plain": [
       "<Figure size 432x288 with 1 Axes>"
      ]
     },
     "metadata": {
      "needs_background": "light"
     },
     "output_type": "display_data"
    },
    {
     "data": {
      "image/png": "[encoded data removed]",
      "text/plain": [
       "<Figure size 432x288 with 1 Axes>"
      ]
     },
     "metadata": {
      "needs_background": "light"
     },
     "output_type": "display_data"
    },
    {
     "name": "stdout",
     "output_type": "stream",
     "text": [
      "4/4 [==============================] - 0s 1ms/step - loss: 157.6763 - mae: 7.3534\n",
      "7.353417873382568\n"
     ]
    },
    {
     "data": {
      "text/plain": [
       "<__main__.Todo6_C at 0x1d6b4782ee0>"
      ]
     },
     "execution_count": 204,
     "metadata": {},
     "output_type": "execute_result"
    }
   ],
   "source": [
    "class Todo6_C:\n",
    "    def __init__(self):\n",
    "        self.build()\n",
    "\n",
    "    def build(self):\n",
    "        self.load_data()\n",
    "        self.normalize_data()\n",
    "        self.compile_model()\n",
    "        self.validation_log_each_fold()\n",
    "        self.plot_A()\n",
    "        self.plot_B()\n",
    "        self.train_final_model()\n",
    "\n",
    "    def load_data(self):\n",
    "        from tensorflow.keras.datasets import boston_housing\n",
    "        (self.train_data, self.train_targets), (self.test_data, self.test_targets) = boston_housing.load_data()\n",
    "        print(self.train_data.shape)\n",
    "        print(self.test_data.shape)\n",
    "        print(self.train_targets)\n",
    "\n",
    "    def normalize_data(self):\n",
    "        self.mean = self.train_data.mean(axis=0)\n",
    "        self.train_data -= self.mean\n",
    "        self.std = self.train_data.std(axis=0)\n",
    "        self.train_data /= self.std\n",
    "        self.test_data -= self.mean\n",
    "        self.test_data /= self.std\n",
    "\n",
    "    def build_model(self):\n",
    "        self.model = keras.Sequential([\n",
    "            layers.Dense(128, activation=\"softmax\"),\n",
    "            layers.Dense(64, activation=\"relu\"),\n",
    "            layers.Dense(128, activation=\"relu\"),            \n",
    "            layers.Dense(64, activation=\"softmax\"),\n",
    "            layers.Dense(1)\n",
    "        ])\n",
    "        self.model.add(Flatten())\n",
    "        self.model.add(Dense(256, activation='relu'))\n",
    "        self.model.add(Dense(128, activation='relu'))\n",
    "        self.model.compile(optimizer=\"rmsprop\", loss=\"mse\", metrics=[\"mae\"])\n",
    "        return self.model\n",
    "\n",
    "    def compile_model(self):\n",
    "        self.k = 2\n",
    "        self.num_val_samples = len(self.train_data) // k\n",
    "        self.num_epochs = 100\n",
    "        self.all_scores = []\n",
    "        for i in range(k):\n",
    "            print(f\"Processing fold #{i}\")\n",
    "            val_data = self.train_data[i * self.num_val_samples: (i + 1) * self.num_val_samples]\n",
    "            val_targets = self.train_targets[i * self.num_val_samples: (i + 1) * self.num_val_samples]\n",
    "            self.partial_train_data = np.concatenate(\n",
    "                [self.train_data[:i * self.num_val_samples],\n",
    "                 self.train_data[(i + 1) * self.num_val_samples:]],\n",
    "                axis=0)\n",
    "            self.partial_train_targets = np.concatenate(\n",
    "                [self.train_targets[:i * self.num_val_samples],\n",
    "                 self.train_targets[(i + 1) * self.num_val_samples:]],\n",
    "                axis=0)\n",
    "            model = self.build_model()\n",
    "            model.fit(self.partial_train_data, self.partial_train_targets,\n",
    "                      epochs=self.num_epochs, batch_size=16, verbose=0)\n",
    "            self.val_mse, self.val_mae = model.evaluate(val_data, val_targets, verbose=0)\n",
    "            self.all_scores.append(self.val_mae)\n",
    "\n",
    "    def validation_log_each_fold(self):\n",
    "        print(self.all_scores)\n",
    "        print(np.mean(self.all_scores))\n",
    "        self.num_epochs = 500\n",
    "        self.all_mae_histories = []\n",
    "        for i in range(self.k):\n",
    "            print(f\"Processing fold #{i}\")\n",
    "            self.val_data = self.train_data[i * self.num_val_samples: (i + 1) * self.num_val_samples]\n",
    "            self.val_targets = self.train_targets[i * self.num_val_samples: (i + 1) * self.num_val_samples]\n",
    "            self.partial_train_data = np.concatenate(\n",
    "                [self.train_data[:i * self.num_val_samples],\n",
    "                 self.train_data[(i + 1) * self.num_val_samples:]],\n",
    "                axis=0)\n",
    "            self.partial_train_targets = np.concatenate(\n",
    "                [self.train_targets[:i * self.num_val_samples],\n",
    "                 self.train_targets[(i + 1) * self.num_val_samples:]],\n",
    "                axis=0)\n",
    "            model = self.build_model()\n",
    "            history = model.fit(self.partial_train_data, self.partial_train_targets,\n",
    "                                validation_data=(self.val_data, self.val_targets),\n",
    "                                epochs=self.num_epochs, batch_size=16, verbose=0)\n",
    "            self.mae_history = history.history[\"val_mae\"]\n",
    "            self.all_mae_histories.append(self.mae_history)\n",
    "        self.average_mae_history = [\n",
    "            np.mean([x[i] for x in self.all_mae_histories]) for i in range(self.num_epochs)]\n",
    "\n",
    "\n",
    "    def plot_A(self):\n",
    "        plt.plot(range(1, len(self.average_mae_history) + 1), self.average_mae_history)\n",
    "        plt.xlabel(\"Epochs\")\n",
    "        plt.ylabel(\"Validation MAE\")\n",
    "        plt.show()\n",
    "    def plot_B(self):\n",
    "        self.truncated_mae_history = self.average_mae_history[10:]\n",
    "        plt.plot(range(1, len(self.truncated_mae_history) + 1), self.truncated_mae_history)\n",
    "        plt.xlabel(\"Epochs\")\n",
    "        plt.ylabel(\"Validation MAE\")\n",
    "        plt.show()\n",
    "\n",
    "    def train_final_model(self):\n",
    "        model = self.build_model()\n",
    "        model.fit(self.train_data, self.train_targets,\n",
    "                  epochs=130, batch_size=16, verbose=0)\n",
    "        self.test_mse_score, self.test_mae_score = model.evaluate(self.test_data, self.test_targets)\n",
    "        print(self.test_mae_score)\n",
    "        predictions = model.predict(self.test_data)\n",
    "        predictions[0]\n",
    "Todo6_C()"
   ]
  },
  {
   "cell_type": "markdown",
   "metadata": {},
   "source": [
    "(1)What type of preprocessing was applied to the raw input data? Why was it necessary to do so?\n",
    "\n",
    "(2)Why is this problem a case of regression(rather than classification)?\n",
    "\n",
    "(3)Does your model suffer from overfitting?If so, what would you suggest doing about it?\n",
    "\n",
    "(4)Is mean absolute error(MAE)a good metric of success in this case? Why (not)?"
   ]
  },
  {
   "cell_type": "markdown",
   "metadata": {},
   "source": [
    "1-pg(79) It would be a a major problem to send our nueral network, values that all take different ranges.\n",
    "The network might be able to automatically adapt to such heterogeneous data, but\n",
    "it would definitely make learning more difficult(According to the author). \n",
    "\n",
    "A standard best practice pre processing method to deal with this use case and data is to do feature-wise normalization.Which is for each feature in the input data (a column in the input data matrix), we will subtract the mean of the feature and divide by the standard deviation, so that the feature will be centered around 0 and will have a unit standard deviation. When features in the input data have values in different ranges, each feature should be scaled independently as a preprocessing step."
   ]
  },
  {
   "cell_type": "markdown",
   "metadata": {},
   "source": [
    "2 - This is a regression problem. The reason it is a regression problem is because its a use case where we are trying to predict a single continuous value. Also this example displays a scalar regression model setup."
   ]
  },
  {
   "cell_type": "markdown",
   "metadata": {},
   "source": [
    "3 - When you look at plot you can see  that the validation mae stop imporve after 80 epoch. We see overfitting after that."
   ]
  },
  {
   "cell_type": "markdown",
   "metadata": {},
   "source": [
    "4- It is a good metric of success for this use case. Metrics used to interprest results from a regression problem are different than metrics used to interpret results from a classification problem. The value of \"accuracy\" does not apply for regression use cases. A standard metric to use for regression use cases is Mean Absolute Error (MAE).\n",
    "\n",
    "pg(81) We are compiling the network with the loss function—Mean Squared mse Error, the square of the different between the predictions and the targets. This is also considered a standard and a widely used loss function for regression problems It is simply the absolute value of the difference between the predictions and the targets. "
   ]
  },
  {
   "cell_type": "markdown",
   "metadata": {
    "id": "8SoeBbpo3brk"
   },
   "source": [
    "### CONCLUSIONS"
   ]
  },
  {
   "cell_type": "markdown",
   "metadata": {
    "id": "YKuaczBa3_5O"
   },
   "source": [
    "Use this area to write your conclusions, lessons learned, etc."
   ]
  },
  {
   "cell_type": "markdown",
   "metadata": {},
   "source": [
    "In conclusion the three examples  binary classification example, multi-class classification example, and the regression example were super helpful for me to have better understand ing on how to handle these use cases with nueral networks. I was ablee to implement and manipulates different algorithms and actually learn hands on skills. I was able to get better understanding of the results to useful use cases and able to translate and manipulate outputs. I really enjoyed this."
   ]
  }
 ],
 "metadata": {
  "accelerator": "GPU",
  "colab": {
   "collapsed_sections": [
    "2u-hfaHC-6qb"
   ],
   "name": "A2_starter_CAP6619.ipynb",
   "provenance": [],
   "toc_visible": true
  },
  "kernelspec": {
   "display_name": "Python 3",
   "language": "python",
   "name": "python3"
  },
  "language_info": {
   "codemirror_mode": {
    "name": "ipython",
    "version": 3
   },
   "file_extension": ".py",
   "mimetype": "text/x-python",
   "name": "python",
   "nbconvert_exporter": "python",
   "pygments_lexer": "ipython3",
   "version": "3.8.6"
  }
 },
 "nbformat": 4,
 "nbformat_minor": 1
}
